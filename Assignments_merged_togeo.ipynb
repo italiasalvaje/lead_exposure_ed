{
 "cells": [
  {
   "cell_type": "code",
   "execution_count": 1,
   "id": "c355fbc2",
   "metadata": {},
   "outputs": [],
   "source": [
    "# Add Pandas dependency\n",
    "\n",
    "import pandas as pd\n"
   ]
  },
  {
   "cell_type": "code",
   "execution_count": 7,
   "id": "8abd0b46",
   "metadata": {},
   "outputs": [],
   "source": [
    "# Files to load\n",
    "rhv_address = \"Resources/rhv_addresses.csv\"\n",
    "\n",
    "assignments = \"Resources/assignments.csv\""
   ]
  },
  {
   "cell_type": "code",
   "execution_count": 8,
   "id": "eca6ee66",
   "metadata": {},
   "outputs": [
    {
     "data": {
      "text/html": [
       "<div>\n",
       "<style scoped>\n",
       "    .dataframe tbody tr th:only-of-type {\n",
       "        vertical-align: middle;\n",
       "    }\n",
       "\n",
       "    .dataframe tbody tr th {\n",
       "        vertical-align: top;\n",
       "    }\n",
       "\n",
       "    .dataframe thead th {\n",
       "        text-align: right;\n",
       "    }\n",
       "</style>\n",
       "<table border=\"1\" class=\"dataframe\">\n",
       "  <thead>\n",
       "    <tr style=\"text-align: right;\">\n",
       "      <th></th>\n",
       "      <th>OBJECTID</th>\n",
       "      <th>Address</th>\n",
       "      <th>Place_Type</th>\n",
       "      <th>long</th>\n",
       "      <th>lat</th>\n",
       "    </tr>\n",
       "  </thead>\n",
       "  <tbody>\n",
       "    <tr>\n",
       "      <th>0</th>\n",
       "      <td>13</td>\n",
       "      <td>1739 Mt Rushmore Dr</td>\n",
       "      <td>SF</td>\n",
       "      <td>-121.803499</td>\n",
       "      <td>37.349605</td>\n",
       "    </tr>\n",
       "    <tr>\n",
       "      <th>1</th>\n",
       "      <td>17</td>\n",
       "      <td>1739 Parkdale Way</td>\n",
       "      <td>SF</td>\n",
       "      <td>-121.811310</td>\n",
       "      <td>37.345887</td>\n",
       "    </tr>\n",
       "    <tr>\n",
       "      <th>2</th>\n",
       "      <td>21</td>\n",
       "      <td>1739 Quimby Rd</td>\n",
       "      <td>MH</td>\n",
       "      <td>-121.821180</td>\n",
       "      <td>37.328826</td>\n",
       "    </tr>\n",
       "    <tr>\n",
       "      <th>3</th>\n",
       "      <td>23</td>\n",
       "      <td>1739 Rigoletto Dr</td>\n",
       "      <td>SF</td>\n",
       "      <td>-121.821953</td>\n",
       "      <td>37.319305</td>\n",
       "    </tr>\n",
       "    <tr>\n",
       "      <th>4</th>\n",
       "      <td>36</td>\n",
       "      <td>1739 Sundown Ln</td>\n",
       "      <td>SF</td>\n",
       "      <td>-121.814786</td>\n",
       "      <td>37.343839</td>\n",
       "    </tr>\n",
       "    <tr>\n",
       "      <th>...</th>\n",
       "      <td>...</td>\n",
       "      <td>...</td>\n",
       "      <td>...</td>\n",
       "      <td>...</td>\n",
       "      <td>...</td>\n",
       "    </tr>\n",
       "    <tr>\n",
       "      <th>20565</th>\n",
       "      <td>388239</td>\n",
       "      <td>1739 Everglade Ave</td>\n",
       "      <td>SF</td>\n",
       "      <td>-121.838904</td>\n",
       "      <td>37.337561</td>\n",
       "    </tr>\n",
       "    <tr>\n",
       "      <th>20566</th>\n",
       "      <td>388245</td>\n",
       "      <td>1739 Hillmont Ave</td>\n",
       "      <td>SF</td>\n",
       "      <td>-121.816073</td>\n",
       "      <td>37.343839</td>\n",
       "    </tr>\n",
       "    <tr>\n",
       "      <th>20567</th>\n",
       "      <td>388246</td>\n",
       "      <td>1739 Home Gate Dr</td>\n",
       "      <td>SF</td>\n",
       "      <td>-121.818562</td>\n",
       "      <td>37.340769</td>\n",
       "    </tr>\n",
       "    <tr>\n",
       "      <th>20568</th>\n",
       "      <td>388247</td>\n",
       "      <td>1739 Hopkins Dr</td>\n",
       "      <td>SF</td>\n",
       "      <td>-121.830407</td>\n",
       "      <td>37.335821</td>\n",
       "    </tr>\n",
       "    <tr>\n",
       "      <th>20569</th>\n",
       "      <td>388248</td>\n",
       "      <td>1739 Kyra Cir</td>\n",
       "      <td>SF</td>\n",
       "      <td>-121.816159</td>\n",
       "      <td>37.313673</td>\n",
       "    </tr>\n",
       "  </tbody>\n",
       "</table>\n",
       "<p>20570 rows × 5 columns</p>\n",
       "</div>"
      ],
      "text/plain": [
       "       OBJECTID              Address Place_Type        long        lat\n",
       "0            13  1739 Mt Rushmore Dr         SF -121.803499  37.349605\n",
       "1            17    1739 Parkdale Way         SF -121.811310  37.345887\n",
       "2            21       1739 Quimby Rd         MH -121.821180  37.328826\n",
       "3            23    1739 Rigoletto Dr         SF -121.821953  37.319305\n",
       "4            36      1739 Sundown Ln         SF -121.814786  37.343839\n",
       "...         ...                  ...        ...         ...        ...\n",
       "20565    388239   1739 Everglade Ave         SF -121.838904  37.337561\n",
       "20566    388245    1739 Hillmont Ave         SF -121.816073  37.343839\n",
       "20567    388246    1739 Home Gate Dr         SF -121.818562  37.340769\n",
       "20568    388247      1739 Hopkins Dr         SF -121.830407  37.335821\n",
       "20569    388248        1739 Kyra Cir         SF -121.816159  37.313673\n",
       "\n",
       "[20570 rows x 5 columns]"
      ]
     },
     "execution_count": 8,
     "metadata": {},
     "output_type": "execute_result"
    }
   ],
   "source": [
    "# Read RHV addresses \n",
    "\n",
    "rhv_address_df = pd.read_csv(rhv_address)\n",
    "rhv_address_df"
   ]
  },
  {
   "cell_type": "code",
   "execution_count": 9,
   "id": "cfed01f5",
   "metadata": {},
   "outputs": [
    {
     "ename": "UnicodeDecodeError",
     "evalue": "'utf-8' codec can't decode byte 0x97 in position 233: invalid start byte",
     "output_type": "error",
     "traceback": [
      "\u001b[0;31m---------------------------------------------------------------------------\u001b[0m",
      "\u001b[0;31mUnicodeDecodeError\u001b[0m                        Traceback (most recent call last)",
      "Input \u001b[0;32mIn [9]\u001b[0m, in \u001b[0;36m<cell line: 3>\u001b[0;34m()\u001b[0m\n\u001b[1;32m      1\u001b[0m \u001b[38;5;66;03m# Read Assignments addresses \u001b[39;00m\n\u001b[0;32m----> 3\u001b[0m assignments_df \u001b[38;5;241m=\u001b[39m \u001b[43mpd\u001b[49m\u001b[38;5;241;43m.\u001b[39;49m\u001b[43mread_csv\u001b[49m\u001b[43m(\u001b[49m\u001b[43massignments\u001b[49m\u001b[43m)\u001b[49m\n\u001b[1;32m      4\u001b[0m assignments_df\n",
      "File \u001b[0;32m~/opt/anaconda3/envs/PythoNData/lib/python3.9/site-packages/pandas/util/_decorators.py:311\u001b[0m, in \u001b[0;36mdeprecate_nonkeyword_arguments.<locals>.decorate.<locals>.wrapper\u001b[0;34m(*args, **kwargs)\u001b[0m\n\u001b[1;32m    305\u001b[0m \u001b[38;5;28;01mif\u001b[39;00m \u001b[38;5;28mlen\u001b[39m(args) \u001b[38;5;241m>\u001b[39m num_allow_args:\n\u001b[1;32m    306\u001b[0m     warnings\u001b[38;5;241m.\u001b[39mwarn(\n\u001b[1;32m    307\u001b[0m         msg\u001b[38;5;241m.\u001b[39mformat(arguments\u001b[38;5;241m=\u001b[39marguments),\n\u001b[1;32m    308\u001b[0m         \u001b[38;5;167;01mFutureWarning\u001b[39;00m,\n\u001b[1;32m    309\u001b[0m         stacklevel\u001b[38;5;241m=\u001b[39mstacklevel,\n\u001b[1;32m    310\u001b[0m     )\n\u001b[0;32m--> 311\u001b[0m \u001b[38;5;28;01mreturn\u001b[39;00m \u001b[43mfunc\u001b[49m\u001b[43m(\u001b[49m\u001b[38;5;241;43m*\u001b[39;49m\u001b[43margs\u001b[49m\u001b[43m,\u001b[49m\u001b[43m \u001b[49m\u001b[38;5;241;43m*\u001b[39;49m\u001b[38;5;241;43m*\u001b[39;49m\u001b[43mkwargs\u001b[49m\u001b[43m)\u001b[49m\n",
      "File \u001b[0;32m~/opt/anaconda3/envs/PythoNData/lib/python3.9/site-packages/pandas/io/parsers/readers.py:680\u001b[0m, in \u001b[0;36mread_csv\u001b[0;34m(filepath_or_buffer, sep, delimiter, header, names, index_col, usecols, squeeze, prefix, mangle_dupe_cols, dtype, engine, converters, true_values, false_values, skipinitialspace, skiprows, skipfooter, nrows, na_values, keep_default_na, na_filter, verbose, skip_blank_lines, parse_dates, infer_datetime_format, keep_date_col, date_parser, dayfirst, cache_dates, iterator, chunksize, compression, thousands, decimal, lineterminator, quotechar, quoting, doublequote, escapechar, comment, encoding, encoding_errors, dialect, error_bad_lines, warn_bad_lines, on_bad_lines, delim_whitespace, low_memory, memory_map, float_precision, storage_options)\u001b[0m\n\u001b[1;32m    665\u001b[0m kwds_defaults \u001b[38;5;241m=\u001b[39m _refine_defaults_read(\n\u001b[1;32m    666\u001b[0m     dialect,\n\u001b[1;32m    667\u001b[0m     delimiter,\n\u001b[0;32m   (...)\u001b[0m\n\u001b[1;32m    676\u001b[0m     defaults\u001b[38;5;241m=\u001b[39m{\u001b[38;5;124m\"\u001b[39m\u001b[38;5;124mdelimiter\u001b[39m\u001b[38;5;124m\"\u001b[39m: \u001b[38;5;124m\"\u001b[39m\u001b[38;5;124m,\u001b[39m\u001b[38;5;124m\"\u001b[39m},\n\u001b[1;32m    677\u001b[0m )\n\u001b[1;32m    678\u001b[0m kwds\u001b[38;5;241m.\u001b[39mupdate(kwds_defaults)\n\u001b[0;32m--> 680\u001b[0m \u001b[38;5;28;01mreturn\u001b[39;00m \u001b[43m_read\u001b[49m\u001b[43m(\u001b[49m\u001b[43mfilepath_or_buffer\u001b[49m\u001b[43m,\u001b[49m\u001b[43m \u001b[49m\u001b[43mkwds\u001b[49m\u001b[43m)\u001b[49m\n",
      "File \u001b[0;32m~/opt/anaconda3/envs/PythoNData/lib/python3.9/site-packages/pandas/io/parsers/readers.py:575\u001b[0m, in \u001b[0;36m_read\u001b[0;34m(filepath_or_buffer, kwds)\u001b[0m\n\u001b[1;32m    572\u001b[0m _validate_names(kwds\u001b[38;5;241m.\u001b[39mget(\u001b[38;5;124m\"\u001b[39m\u001b[38;5;124mnames\u001b[39m\u001b[38;5;124m\"\u001b[39m, \u001b[38;5;28;01mNone\u001b[39;00m))\n\u001b[1;32m    574\u001b[0m \u001b[38;5;66;03m# Create the parser.\u001b[39;00m\n\u001b[0;32m--> 575\u001b[0m parser \u001b[38;5;241m=\u001b[39m \u001b[43mTextFileReader\u001b[49m\u001b[43m(\u001b[49m\u001b[43mfilepath_or_buffer\u001b[49m\u001b[43m,\u001b[49m\u001b[43m \u001b[49m\u001b[38;5;241;43m*\u001b[39;49m\u001b[38;5;241;43m*\u001b[39;49m\u001b[43mkwds\u001b[49m\u001b[43m)\u001b[49m\n\u001b[1;32m    577\u001b[0m \u001b[38;5;28;01mif\u001b[39;00m chunksize \u001b[38;5;129;01mor\u001b[39;00m iterator:\n\u001b[1;32m    578\u001b[0m     \u001b[38;5;28;01mreturn\u001b[39;00m parser\n",
      "File \u001b[0;32m~/opt/anaconda3/envs/PythoNData/lib/python3.9/site-packages/pandas/io/parsers/readers.py:933\u001b[0m, in \u001b[0;36mTextFileReader.__init__\u001b[0;34m(self, f, engine, **kwds)\u001b[0m\n\u001b[1;32m    930\u001b[0m     \u001b[38;5;28mself\u001b[39m\u001b[38;5;241m.\u001b[39moptions[\u001b[38;5;124m\"\u001b[39m\u001b[38;5;124mhas_index_names\u001b[39m\u001b[38;5;124m\"\u001b[39m] \u001b[38;5;241m=\u001b[39m kwds[\u001b[38;5;124m\"\u001b[39m\u001b[38;5;124mhas_index_names\u001b[39m\u001b[38;5;124m\"\u001b[39m]\n\u001b[1;32m    932\u001b[0m \u001b[38;5;28mself\u001b[39m\u001b[38;5;241m.\u001b[39mhandles: IOHandles \u001b[38;5;241m|\u001b[39m \u001b[38;5;28;01mNone\u001b[39;00m \u001b[38;5;241m=\u001b[39m \u001b[38;5;28;01mNone\u001b[39;00m\n\u001b[0;32m--> 933\u001b[0m \u001b[38;5;28mself\u001b[39m\u001b[38;5;241m.\u001b[39m_engine \u001b[38;5;241m=\u001b[39m \u001b[38;5;28;43mself\u001b[39;49m\u001b[38;5;241;43m.\u001b[39;49m\u001b[43m_make_engine\u001b[49m\u001b[43m(\u001b[49m\u001b[43mf\u001b[49m\u001b[43m,\u001b[49m\u001b[43m \u001b[49m\u001b[38;5;28;43mself\u001b[39;49m\u001b[38;5;241;43m.\u001b[39;49m\u001b[43mengine\u001b[49m\u001b[43m)\u001b[49m\n",
      "File \u001b[0;32m~/opt/anaconda3/envs/PythoNData/lib/python3.9/site-packages/pandas/io/parsers/readers.py:1235\u001b[0m, in \u001b[0;36mTextFileReader._make_engine\u001b[0;34m(self, f, engine)\u001b[0m\n\u001b[1;32m   1232\u001b[0m     \u001b[38;5;28;01mraise\u001b[39;00m \u001b[38;5;167;01mValueError\u001b[39;00m(msg)\n\u001b[1;32m   1234\u001b[0m \u001b[38;5;28;01mtry\u001b[39;00m:\n\u001b[0;32m-> 1235\u001b[0m     \u001b[38;5;28;01mreturn\u001b[39;00m \u001b[43mmapping\u001b[49m\u001b[43m[\u001b[49m\u001b[43mengine\u001b[49m\u001b[43m]\u001b[49m\u001b[43m(\u001b[49m\u001b[43mf\u001b[49m\u001b[43m,\u001b[49m\u001b[43m \u001b[49m\u001b[38;5;241;43m*\u001b[39;49m\u001b[38;5;241;43m*\u001b[39;49m\u001b[38;5;28;43mself\u001b[39;49m\u001b[38;5;241;43m.\u001b[39;49m\u001b[43moptions\u001b[49m\u001b[43m)\u001b[49m\n\u001b[1;32m   1236\u001b[0m \u001b[38;5;28;01mexcept\u001b[39;00m \u001b[38;5;167;01mException\u001b[39;00m:\n\u001b[1;32m   1237\u001b[0m     \u001b[38;5;28;01mif\u001b[39;00m \u001b[38;5;28mself\u001b[39m\u001b[38;5;241m.\u001b[39mhandles \u001b[38;5;129;01mis\u001b[39;00m \u001b[38;5;129;01mnot\u001b[39;00m \u001b[38;5;28;01mNone\u001b[39;00m:\n",
      "File \u001b[0;32m~/opt/anaconda3/envs/PythoNData/lib/python3.9/site-packages/pandas/io/parsers/c_parser_wrapper.py:75\u001b[0m, in \u001b[0;36mCParserWrapper.__init__\u001b[0;34m(self, src, **kwds)\u001b[0m\n\u001b[1;32m     72\u001b[0m     kwds\u001b[38;5;241m.\u001b[39mpop(key, \u001b[38;5;28;01mNone\u001b[39;00m)\n\u001b[1;32m     74\u001b[0m kwds[\u001b[38;5;124m\"\u001b[39m\u001b[38;5;124mdtype\u001b[39m\u001b[38;5;124m\"\u001b[39m] \u001b[38;5;241m=\u001b[39m ensure_dtype_objs(kwds\u001b[38;5;241m.\u001b[39mget(\u001b[38;5;124m\"\u001b[39m\u001b[38;5;124mdtype\u001b[39m\u001b[38;5;124m\"\u001b[39m, \u001b[38;5;28;01mNone\u001b[39;00m))\n\u001b[0;32m---> 75\u001b[0m \u001b[38;5;28mself\u001b[39m\u001b[38;5;241m.\u001b[39m_reader \u001b[38;5;241m=\u001b[39m \u001b[43mparsers\u001b[49m\u001b[38;5;241;43m.\u001b[39;49m\u001b[43mTextReader\u001b[49m\u001b[43m(\u001b[49m\u001b[43msrc\u001b[49m\u001b[43m,\u001b[49m\u001b[43m \u001b[49m\u001b[38;5;241;43m*\u001b[39;49m\u001b[38;5;241;43m*\u001b[39;49m\u001b[43mkwds\u001b[49m\u001b[43m)\u001b[49m\n\u001b[1;32m     77\u001b[0m \u001b[38;5;28mself\u001b[39m\u001b[38;5;241m.\u001b[39munnamed_cols \u001b[38;5;241m=\u001b[39m \u001b[38;5;28mself\u001b[39m\u001b[38;5;241m.\u001b[39m_reader\u001b[38;5;241m.\u001b[39munnamed_cols\n\u001b[1;32m     79\u001b[0m \u001b[38;5;66;03m# error: Cannot determine type of 'names'\u001b[39;00m\n",
      "File \u001b[0;32m~/opt/anaconda3/envs/PythoNData/lib/python3.9/site-packages/pandas/_libs/parsers.pyx:544\u001b[0m, in \u001b[0;36mpandas._libs.parsers.TextReader.__cinit__\u001b[0;34m()\u001b[0m\n",
      "File \u001b[0;32m~/opt/anaconda3/envs/PythoNData/lib/python3.9/site-packages/pandas/_libs/parsers.pyx:633\u001b[0m, in \u001b[0;36mpandas._libs.parsers.TextReader._get_header\u001b[0;34m()\u001b[0m\n",
      "File \u001b[0;32m~/opt/anaconda3/envs/PythoNData/lib/python3.9/site-packages/pandas/_libs/parsers.pyx:847\u001b[0m, in \u001b[0;36mpandas._libs.parsers.TextReader._tokenize_rows\u001b[0;34m()\u001b[0m\n",
      "File \u001b[0;32m~/opt/anaconda3/envs/PythoNData/lib/python3.9/site-packages/pandas/_libs/parsers.pyx:1952\u001b[0m, in \u001b[0;36mpandas._libs.parsers.raise_parser_error\u001b[0;34m()\u001b[0m\n",
      "\u001b[0;31mUnicodeDecodeError\u001b[0m: 'utf-8' codec can't decode byte 0x97 in position 233: invalid start byte"
     ]
    }
   ],
   "source": [
    "# Read Assignments addresses \n",
    "\n",
    "assignments_df = pd.read_csv(assignments)\n",
    "assignments_df"
   ]
  },
  {
   "cell_type": "code",
   "execution_count": null,
   "id": "421a4af2",
   "metadata": {},
   "outputs": [],
   "source": [
    "rhv_address_df.dtypes"
   ]
  },
  {
   "cell_type": "code",
   "execution_count": null,
   "id": "d08f103c",
   "metadata": {},
   "outputs": [],
   "source": [
    "assignments_df.dtypes"
   ]
  },
  {
   "cell_type": "code",
   "execution_count": null,
   "id": "a46887bb",
   "metadata": {},
   "outputs": [],
   "source": [
    "#get number of responses to study question \n",
    "assignments_count = assignments_df.count()\n",
    "assignments_count"
   ]
  },
  {
   "cell_type": "code",
   "execution_count": null,
   "id": "2cd7454e",
   "metadata": {},
   "outputs": [],
   "source": [
    "assignments_df.isnull().sum()"
   ]
  },
  {
   "cell_type": "code",
   "execution_count": null,
   "id": "d216dc02",
   "metadata": {},
   "outputs": [],
   "source": [
    "#fill empty rows with \"Did not take survey / No tomo la encuesta\"\n",
    "\n",
    "assignments_df[['Language','Meetings','Revision','Effects']]=assignments_df[['Language','Meetings','Revision','Effects']].fillna('Did not take survey / No tomo la encuesta')\n",
    "\n",
    "\n",
    "#view assignemnts\n",
    "assignments_df"
   ]
  },
  {
   "cell_type": "code",
   "execution_count": null,
   "id": "28577030",
   "metadata": {},
   "outputs": [],
   "source": [
    "assignments_df.isnull().sum()"
   ]
  },
  {
   "cell_type": "code",
   "execution_count": null,
   "id": "4efb683c",
   "metadata": {},
   "outputs": [],
   "source": [
    "# Unit types to list \n",
    "\n",
    "unit_types = [\" Unit \",\" Trlr \",\" Ste \",\" Spc \",\" Bldg \"]"
   ]
  },
  {
   "cell_type": "code",
   "execution_count": null,
   "id": "05bfd207",
   "metadata": {},
   "outputs": [],
   "source": [
    "# iterate through unit_types\n",
    "\n",
    "for word in unit_types:\n",
    "    assignments_df[\"Address\"]=assignments_df[\"Address\"].str.replace(word,\" \")"
   ]
  },
  {
   "cell_type": "code",
   "execution_count": null,
   "id": "14b1056e",
   "metadata": {},
   "outputs": [],
   "source": [
    "assignments_df.head(19)"
   ]
  },
  {
   "cell_type": "code",
   "execution_count": null,
   "id": "54ee481e",
   "metadata": {},
   "outputs": [],
   "source": [
    "# iterate through unit_types\n",
    "\n",
    "for word in unit_types:\n",
    "    rhv_address_df[\"Address\"]=rhv_address_df[\"Address\"].str.replace(word,\" \")"
   ]
  },
  {
   "cell_type": "code",
   "execution_count": null,
   "id": "ab67afcc",
   "metadata": {},
   "outputs": [],
   "source": [
    "rhv_address_df.loc[560,:]"
   ]
  },
  {
   "cell_type": "code",
   "execution_count": null,
   "id": "b2a6ddab",
   "metadata": {},
   "outputs": [],
   "source": [
    "# attempt at merging\n",
    "\n",
    "merged_df = pd.merge(assignments_df, rhv_address_df, on=[\"Address\",\"Address\"])\n",
    "merged_df.head()"
   ]
  },
  {
   "cell_type": "code",
   "execution_count": null,
   "id": "39866b20",
   "metadata": {},
   "outputs": [],
   "source": [
    "df_non_match = pd.merge(assignments_df, rhv_address_df, how='outer',indicator=True, on ='Address')\n",
    "df_non_match"
   ]
  },
  {
   "cell_type": "code",
   "execution_count": null,
   "id": "8f3a2afa",
   "metadata": {},
   "outputs": [],
   "source": [
    "df_non_match.to_csv (r'Resources/no_match.csv', index = False, header=True)"
   ]
  },
  {
   "cell_type": "code",
   "execution_count": null,
   "id": "a820954b",
   "metadata": {},
   "outputs": [],
   "source": []
  },
  {
   "cell_type": "code",
   "execution_count": null,
   "id": "3c0fd308",
   "metadata": {},
   "outputs": [],
   "source": [
    "df_non_match = df_non_match[(df_non_match._merge != 'both')]\n",
    "df_non_match['Address']"
   ]
  },
  {
   "cell_type": "code",
   "execution_count": null,
   "id": "bc676332",
   "metadata": {},
   "outputs": [],
   "source": [
    "#get number of responses to study question \n",
    "study_count = merged_df.count()\n",
    "study_count"
   ]
  },
  {
   "cell_type": "code",
   "execution_count": null,
   "id": "0a8d4ab7",
   "metadata": {},
   "outputs": [],
   "source": [
    "merged_df.to_csv (r'Resources/merged_df.csv', index = False, header=True)"
   ]
  },
  {
   "cell_type": "code",
   "execution_count": null,
   "id": "d7409ffe",
   "metadata": {},
   "outputs": [],
   "source": []
  },
  {
   "cell_type": "code",
   "execution_count": null,
   "id": "6a95f32c",
   "metadata": {},
   "outputs": [],
   "source": []
  }
 ],
 "metadata": {
  "kernelspec": {
   "display_name": "PythonData",
   "language": "python",
   "name": "pythondata"
  },
  "language_info": {
   "codemirror_mode": {
    "name": "ipython",
    "version": 3
   },
   "file_extension": ".py",
   "mimetype": "text/x-python",
   "name": "python",
   "nbconvert_exporter": "python",
   "pygments_lexer": "ipython3",
   "version": "3.9.12"
  }
 },
 "nbformat": 4,
 "nbformat_minor": 5
}
