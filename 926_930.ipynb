{
 "cells": [
  {
   "cell_type": "code",
   "execution_count": 2,
   "id": "074066e5",
   "metadata": {},
   "outputs": [],
   "source": [
    "# Add Pandas dependency\n",
    "\n",
    "import pandas as pd\n"
   ]
  },
  {
   "cell_type": "code",
   "execution_count": 3,
   "id": "65f859a0",
   "metadata": {},
   "outputs": [],
   "source": [
    "# Files to load\n",
    "week1 = \"WeeklyReports/926_930.csv\"\n",
    "\n"
   ]
  },
  {
   "cell_type": "code",
   "execution_count": 4,
   "id": "a5f8978b",
   "metadata": {},
   "outputs": [
    {
     "data": {
      "text/html": [
       "<div>\n",
       "<style scoped>\n",
       "    .dataframe tbody tr th:only-of-type {\n",
       "        vertical-align: middle;\n",
       "    }\n",
       "\n",
       "    .dataframe tbody tr th {\n",
       "        vertical-align: top;\n",
       "    }\n",
       "\n",
       "    .dataframe thead th {\n",
       "        text-align: right;\n",
       "    }\n",
       "</style>\n",
       "<table border=\"1\" class=\"dataframe\">\n",
       "  <thead>\n",
       "    <tr style=\"text-align: right;\">\n",
       "      <th></th>\n",
       "      <th>Timestamp</th>\n",
       "      <th>Promotor</th>\n",
       "      <th>Address</th>\n",
       "      <th>Contact</th>\n",
       "      <th>Language</th>\n",
       "      <th>Study</th>\n",
       "      <th>Tested</th>\n",
       "      <th>PrimaryCare</th>\n",
       "      <th>Information</th>\n",
       "      <th>Precautions</th>\n",
       "      <th>Meetings</th>\n",
       "      <th>Revision</th>\n",
       "      <th>Effects</th>\n",
       "      <th>Name</th>\n",
       "      <th>Phone</th>\n",
       "      <th>Email</th>\n",
       "      <th>Questions</th>\n",
       "      <th>Fliers</th>\n",
       "      <th>Assignment</th>\n",
       "    </tr>\n",
       "  </thead>\n",
       "  <tbody>\n",
       "    <tr>\n",
       "      <th>0</th>\n",
       "      <td>9/26/22 10:06</td>\n",
       "      <td>Ayde</td>\n",
       "      <td>2645 Lombard Ave</td>\n",
       "      <td>No</td>\n",
       "      <td>Did not take survey / No tomo la encuesta</td>\n",
       "      <td>Did not take survey / No tomo la encuesta</td>\n",
       "      <td>Did not take survey / No tomo la encuesta</td>\n",
       "      <td>NaN</td>\n",
       "      <td>NaN</td>\n",
       "      <td>Did not take survey / No tomo la encuesta</td>\n",
       "      <td>Did not take survey / No tomo la encuesta</td>\n",
       "      <td>Did not take survey / No tomo la encuesta</td>\n",
       "      <td>Did not take survey / No tomo la encuesta</td>\n",
       "      <td>NaN</td>\n",
       "      <td>NaN</td>\n",
       "      <td>NaN</td>\n",
       "      <td>NaN</td>\n",
       "      <td>Left at the address / Deje en la direccion</td>\n",
       "      <td>O</td>\n",
       "    </tr>\n",
       "    <tr>\n",
       "      <th>1</th>\n",
       "      <td>9/26/22 10:23</td>\n",
       "      <td>Ayde</td>\n",
       "      <td>2644 Lombard Ave</td>\n",
       "      <td>Yes / Si</td>\n",
       "      <td>Spanish / Espanol</td>\n",
       "      <td>Yes / Si</td>\n",
       "      <td>Maybe / Quizas</td>\n",
       "      <td>NaN</td>\n",
       "      <td>NaN</td>\n",
       "      <td>Yes / Si</td>\n",
       "      <td>Maybe / Quizas</td>\n",
       "      <td>Yes / Si</td>\n",
       "      <td>Yes / Si</td>\n",
       "      <td>Antonia Gutierrez</td>\n",
       "      <td>408 929 67 10</td>\n",
       "      <td>NaN</td>\n",
       "      <td>NaN</td>\n",
       "      <td>Handed to resident / Entregue al residente</td>\n",
       "      <td>O</td>\n",
       "    </tr>\n",
       "    <tr>\n",
       "      <th>2</th>\n",
       "      <td>9/26/22 10:25</td>\n",
       "      <td>Ayde</td>\n",
       "      <td>2639 Lombard Ave</td>\n",
       "      <td>No</td>\n",
       "      <td>Did not take survey / No tomo la encuesta</td>\n",
       "      <td>Did not take survey / No tomo la encuesta</td>\n",
       "      <td>Did not take survey / No tomo la encuesta</td>\n",
       "      <td>NaN</td>\n",
       "      <td>NaN</td>\n",
       "      <td>Did not take survey / No tomo la encuesta</td>\n",
       "      <td>Did not take survey / No tomo la encuesta</td>\n",
       "      <td>Did not take survey / No tomo la encuesta</td>\n",
       "      <td>Did not take survey / No tomo la encuesta</td>\n",
       "      <td>NaN</td>\n",
       "      <td>NaN</td>\n",
       "      <td>NaN</td>\n",
       "      <td>NaN</td>\n",
       "      <td>Left at the address / Deje en la direccion</td>\n",
       "      <td>O</td>\n",
       "    </tr>\n",
       "    <tr>\n",
       "      <th>3</th>\n",
       "      <td>9/26/22 11:28</td>\n",
       "      <td>Ayde</td>\n",
       "      <td>921 S Capitol Ave</td>\n",
       "      <td>No</td>\n",
       "      <td>Did not take survey / No tomo la encuesta</td>\n",
       "      <td>Did not take survey / No tomo la encuesta</td>\n",
       "      <td>Did not take survey / No tomo la encuesta</td>\n",
       "      <td>NaN</td>\n",
       "      <td>NaN</td>\n",
       "      <td>Did not take survey / No tomo la encuesta</td>\n",
       "      <td>Did not take survey / No tomo la encuesta</td>\n",
       "      <td>Did not take survey / No tomo la encuesta</td>\n",
       "      <td>Did not take survey / No tomo la encuesta</td>\n",
       "      <td>NaN</td>\n",
       "      <td>NaN</td>\n",
       "      <td>NaN</td>\n",
       "      <td>NaN</td>\n",
       "      <td>Left at the address / Deje en la direccion</td>\n",
       "      <td>O</td>\n",
       "    </tr>\n",
       "    <tr>\n",
       "      <th>4</th>\n",
       "      <td>9/26/22 11:37</td>\n",
       "      <td>Ayde</td>\n",
       "      <td>849 S Capitol Ave</td>\n",
       "      <td>No</td>\n",
       "      <td>Did not take survey / No tomo la encuesta</td>\n",
       "      <td>Did not take survey / No tomo la encuesta</td>\n",
       "      <td>Did not take survey / No tomo la encuesta</td>\n",
       "      <td>NaN</td>\n",
       "      <td>NaN</td>\n",
       "      <td>Did not take survey / No tomo la encuesta</td>\n",
       "      <td>Did not take survey / No tomo la encuesta</td>\n",
       "      <td>Did not take survey / No tomo la encuesta</td>\n",
       "      <td>Did not take survey / No tomo la encuesta</td>\n",
       "      <td>NaN</td>\n",
       "      <td>NaN</td>\n",
       "      <td>NaN</td>\n",
       "      <td>NaN</td>\n",
       "      <td>Left at the address / Deje en la direccion</td>\n",
       "      <td>O</td>\n",
       "    </tr>\n",
       "    <tr>\n",
       "      <th>...</th>\n",
       "      <td>...</td>\n",
       "      <td>...</td>\n",
       "      <td>...</td>\n",
       "      <td>...</td>\n",
       "      <td>...</td>\n",
       "      <td>...</td>\n",
       "      <td>...</td>\n",
       "      <td>...</td>\n",
       "      <td>...</td>\n",
       "      <td>...</td>\n",
       "      <td>...</td>\n",
       "      <td>...</td>\n",
       "      <td>...</td>\n",
       "      <td>...</td>\n",
       "      <td>...</td>\n",
       "      <td>...</td>\n",
       "      <td>...</td>\n",
       "      <td>...</td>\n",
       "      <td>...</td>\n",
       "    </tr>\n",
       "    <tr>\n",
       "      <th>569</th>\n",
       "      <td>9/30/22 16:37</td>\n",
       "      <td>Miguel</td>\n",
       "      <td>3128 Mt McKinley Dr</td>\n",
       "      <td>No</td>\n",
       "      <td>Did not take survey / No tomo la encuesta</td>\n",
       "      <td>Did not take survey / No tomo la encuesta</td>\n",
       "      <td>Did not take survey / No tomo la encuesta</td>\n",
       "      <td>NaN</td>\n",
       "      <td>NaN</td>\n",
       "      <td>Did not take survey / No tomo la encuesta</td>\n",
       "      <td>Did not take survey / No tomo la encuesta</td>\n",
       "      <td>Did not take survey / No tomo la encuesta</td>\n",
       "      <td>Did not take survey / No tomo la encuesta</td>\n",
       "      <td>NaN</td>\n",
       "      <td>NaN</td>\n",
       "      <td>NaN</td>\n",
       "      <td>NaN</td>\n",
       "      <td>Left at the address / Deje en la direccion</td>\n",
       "      <td>Q</td>\n",
       "    </tr>\n",
       "    <tr>\n",
       "      <th>570</th>\n",
       "      <td>9/30/22 16:44</td>\n",
       "      <td>Miguel</td>\n",
       "      <td>1603 Mt McKinley Dr</td>\n",
       "      <td>No</td>\n",
       "      <td>Did not take survey / No tomo la encuesta</td>\n",
       "      <td>Did not take survey / No tomo la encuesta</td>\n",
       "      <td>Did not take survey / No tomo la encuesta</td>\n",
       "      <td>NaN</td>\n",
       "      <td>NaN</td>\n",
       "      <td>Did not take survey / No tomo la encuesta</td>\n",
       "      <td>Did not take survey / No tomo la encuesta</td>\n",
       "      <td>Did not take survey / No tomo la encuesta</td>\n",
       "      <td>Did not take survey / No tomo la encuesta</td>\n",
       "      <td>NaN</td>\n",
       "      <td>NaN</td>\n",
       "      <td>NaN</td>\n",
       "      <td>NaN</td>\n",
       "      <td>Left at the address / Deje en la direccion</td>\n",
       "      <td>Q</td>\n",
       "    </tr>\n",
       "    <tr>\n",
       "      <th>571</th>\n",
       "      <td>9/30/22 16:45</td>\n",
       "      <td>Miguel</td>\n",
       "      <td>1607 Mt McKinley Dr</td>\n",
       "      <td>Yes / Si</td>\n",
       "      <td>English / Ingles</td>\n",
       "      <td>Did not take survey / No tomo la encuesta</td>\n",
       "      <td>Did not take survey / No tomo la encuesta</td>\n",
       "      <td>NaN</td>\n",
       "      <td>NaN</td>\n",
       "      <td>Did not take survey / No tomo la encuesta</td>\n",
       "      <td>Did not take survey / No tomo la encuesta</td>\n",
       "      <td>Did not take survey / No tomo la encuesta</td>\n",
       "      <td>Did not take survey / No tomo la encuesta</td>\n",
       "      <td>NaN</td>\n",
       "      <td>NaN</td>\n",
       "      <td>NaN</td>\n",
       "      <td>NaN</td>\n",
       "      <td>Handed to resident / Entregue al residente</td>\n",
       "      <td>Q</td>\n",
       "    </tr>\n",
       "    <tr>\n",
       "      <th>572</th>\n",
       "      <td>9/30/22 16:46</td>\n",
       "      <td>Miguel</td>\n",
       "      <td>1613 Mt McKinley Dr</td>\n",
       "      <td>No</td>\n",
       "      <td>Did not take survey / No tomo la encuesta</td>\n",
       "      <td>Did not take survey / No tomo la encuesta</td>\n",
       "      <td>Did not take survey / No tomo la encuesta</td>\n",
       "      <td>NaN</td>\n",
       "      <td>NaN</td>\n",
       "      <td>Did not take survey / No tomo la encuesta</td>\n",
       "      <td>Did not take survey / No tomo la encuesta</td>\n",
       "      <td>Did not take survey / No tomo la encuesta</td>\n",
       "      <td>Did not take survey / No tomo la encuesta</td>\n",
       "      <td>NaN</td>\n",
       "      <td>NaN</td>\n",
       "      <td>NaN</td>\n",
       "      <td>NaN</td>\n",
       "      <td>Left at the address / Deje en la direccion</td>\n",
       "      <td>Q</td>\n",
       "    </tr>\n",
       "    <tr>\n",
       "      <th>573</th>\n",
       "      <td>9/30/22 16:49</td>\n",
       "      <td>Miguel</td>\n",
       "      <td>1621 Mt Blanc Way</td>\n",
       "      <td>Yes / Si</td>\n",
       "      <td>English / Ingles</td>\n",
       "      <td>Did not take survey / No tomo la encuesta</td>\n",
       "      <td>Did not take survey / No tomo la encuesta</td>\n",
       "      <td>NaN</td>\n",
       "      <td>NaN</td>\n",
       "      <td>Did not take survey / No tomo la encuesta</td>\n",
       "      <td>Did not take survey / No tomo la encuesta</td>\n",
       "      <td>Did not take survey / No tomo la encuesta</td>\n",
       "      <td>Did not take survey / No tomo la encuesta</td>\n",
       "      <td>NaN</td>\n",
       "      <td>NaN</td>\n",
       "      <td>NaN</td>\n",
       "      <td>NaN</td>\n",
       "      <td>Handed to resident / Entregue al residente</td>\n",
       "      <td>Q</td>\n",
       "    </tr>\n",
       "  </tbody>\n",
       "</table>\n",
       "<p>574 rows × 19 columns</p>\n",
       "</div>"
      ],
      "text/plain": [
       "         Timestamp Promotor              Address   Contact  \\\n",
       "0    9/26/22 10:06     Ayde     2645 Lombard Ave        No   \n",
       "1    9/26/22 10:23     Ayde     2644 Lombard Ave  Yes / Si   \n",
       "2    9/26/22 10:25     Ayde     2639 Lombard Ave        No   \n",
       "3    9/26/22 11:28     Ayde    921 S Capitol Ave        No   \n",
       "4    9/26/22 11:37     Ayde    849 S Capitol Ave        No   \n",
       "..             ...      ...                  ...       ...   \n",
       "569  9/30/22 16:37   Miguel  3128 Mt McKinley Dr        No   \n",
       "570  9/30/22 16:44   Miguel  1603 Mt McKinley Dr        No   \n",
       "571  9/30/22 16:45   Miguel  1607 Mt McKinley Dr  Yes / Si   \n",
       "572  9/30/22 16:46   Miguel  1613 Mt McKinley Dr        No   \n",
       "573  9/30/22 16:49   Miguel    1621 Mt Blanc Way  Yes / Si   \n",
       "\n",
       "                                      Language  \\\n",
       "0    Did not take survey / No tomo la encuesta   \n",
       "1                            Spanish / Espanol   \n",
       "2    Did not take survey / No tomo la encuesta   \n",
       "3    Did not take survey / No tomo la encuesta   \n",
       "4    Did not take survey / No tomo la encuesta   \n",
       "..                                         ...   \n",
       "569  Did not take survey / No tomo la encuesta   \n",
       "570  Did not take survey / No tomo la encuesta   \n",
       "571                           English / Ingles   \n",
       "572  Did not take survey / No tomo la encuesta   \n",
       "573                           English / Ingles   \n",
       "\n",
       "                                         Study  \\\n",
       "0    Did not take survey / No tomo la encuesta   \n",
       "1                                     Yes / Si   \n",
       "2    Did not take survey / No tomo la encuesta   \n",
       "3    Did not take survey / No tomo la encuesta   \n",
       "4    Did not take survey / No tomo la encuesta   \n",
       "..                                         ...   \n",
       "569  Did not take survey / No tomo la encuesta   \n",
       "570  Did not take survey / No tomo la encuesta   \n",
       "571  Did not take survey / No tomo la encuesta   \n",
       "572  Did not take survey / No tomo la encuesta   \n",
       "573  Did not take survey / No tomo la encuesta   \n",
       "\n",
       "                                        Tested PrimaryCare Information  \\\n",
       "0    Did not take survey / No tomo la encuesta         NaN         NaN   \n",
       "1                               Maybe / Quizas         NaN         NaN   \n",
       "2    Did not take survey / No tomo la encuesta         NaN         NaN   \n",
       "3    Did not take survey / No tomo la encuesta         NaN         NaN   \n",
       "4    Did not take survey / No tomo la encuesta         NaN         NaN   \n",
       "..                                         ...         ...         ...   \n",
       "569  Did not take survey / No tomo la encuesta         NaN         NaN   \n",
       "570  Did not take survey / No tomo la encuesta         NaN         NaN   \n",
       "571  Did not take survey / No tomo la encuesta         NaN         NaN   \n",
       "572  Did not take survey / No tomo la encuesta         NaN         NaN   \n",
       "573  Did not take survey / No tomo la encuesta         NaN         NaN   \n",
       "\n",
       "                                   Precautions  \\\n",
       "0    Did not take survey / No tomo la encuesta   \n",
       "1                                     Yes / Si   \n",
       "2    Did not take survey / No tomo la encuesta   \n",
       "3    Did not take survey / No tomo la encuesta   \n",
       "4    Did not take survey / No tomo la encuesta   \n",
       "..                                         ...   \n",
       "569  Did not take survey / No tomo la encuesta   \n",
       "570  Did not take survey / No tomo la encuesta   \n",
       "571  Did not take survey / No tomo la encuesta   \n",
       "572  Did not take survey / No tomo la encuesta   \n",
       "573  Did not take survey / No tomo la encuesta   \n",
       "\n",
       "                                      Meetings  \\\n",
       "0    Did not take survey / No tomo la encuesta   \n",
       "1                               Maybe / Quizas   \n",
       "2    Did not take survey / No tomo la encuesta   \n",
       "3    Did not take survey / No tomo la encuesta   \n",
       "4    Did not take survey / No tomo la encuesta   \n",
       "..                                         ...   \n",
       "569  Did not take survey / No tomo la encuesta   \n",
       "570  Did not take survey / No tomo la encuesta   \n",
       "571  Did not take survey / No tomo la encuesta   \n",
       "572  Did not take survey / No tomo la encuesta   \n",
       "573  Did not take survey / No tomo la encuesta   \n",
       "\n",
       "                                      Revision  \\\n",
       "0    Did not take survey / No tomo la encuesta   \n",
       "1                                     Yes / Si   \n",
       "2    Did not take survey / No tomo la encuesta   \n",
       "3    Did not take survey / No tomo la encuesta   \n",
       "4    Did not take survey / No tomo la encuesta   \n",
       "..                                         ...   \n",
       "569  Did not take survey / No tomo la encuesta   \n",
       "570  Did not take survey / No tomo la encuesta   \n",
       "571  Did not take survey / No tomo la encuesta   \n",
       "572  Did not take survey / No tomo la encuesta   \n",
       "573  Did not take survey / No tomo la encuesta   \n",
       "\n",
       "                                       Effects               Name  \\\n",
       "0    Did not take survey / No tomo la encuesta                NaN   \n",
       "1                                     Yes / Si  Antonia Gutierrez   \n",
       "2    Did not take survey / No tomo la encuesta                NaN   \n",
       "3    Did not take survey / No tomo la encuesta                NaN   \n",
       "4    Did not take survey / No tomo la encuesta                NaN   \n",
       "..                                         ...                ...   \n",
       "569  Did not take survey / No tomo la encuesta                NaN   \n",
       "570  Did not take survey / No tomo la encuesta                NaN   \n",
       "571  Did not take survey / No tomo la encuesta                NaN   \n",
       "572  Did not take survey / No tomo la encuesta                NaN   \n",
       "573  Did not take survey / No tomo la encuesta                NaN   \n",
       "\n",
       "             Phone Email Questions  \\\n",
       "0              NaN   NaN       NaN   \n",
       "1    408 929 67 10   NaN       NaN   \n",
       "2              NaN   NaN       NaN   \n",
       "3              NaN   NaN       NaN   \n",
       "4              NaN   NaN       NaN   \n",
       "..             ...   ...       ...   \n",
       "569            NaN   NaN       NaN   \n",
       "570            NaN   NaN       NaN   \n",
       "571            NaN   NaN       NaN   \n",
       "572            NaN   NaN       NaN   \n",
       "573            NaN   NaN       NaN   \n",
       "\n",
       "                                         Fliers Assignment  \n",
       "0    Left at the address / Deje en la direccion          O  \n",
       "1    Handed to resident / Entregue al residente          O  \n",
       "2    Left at the address / Deje en la direccion          O  \n",
       "3    Left at the address / Deje en la direccion          O  \n",
       "4    Left at the address / Deje en la direccion          O  \n",
       "..                                          ...        ...  \n",
       "569  Left at the address / Deje en la direccion          Q  \n",
       "570  Left at the address / Deje en la direccion          Q  \n",
       "571  Handed to resident / Entregue al residente          Q  \n",
       "572  Left at the address / Deje en la direccion          Q  \n",
       "573  Handed to resident / Entregue al residente          Q  \n",
       "\n",
       "[574 rows x 19 columns]"
      ]
     },
     "execution_count": 4,
     "metadata": {},
     "output_type": "execute_result"
    }
   ],
   "source": [
    "# Read RHV addresses \n",
    "\n",
    "week1_df = pd.read_csv(week1)\n",
    "week1_df"
   ]
  },
  {
   "cell_type": "code",
   "execution_count": 5,
   "id": "d5d84dee",
   "metadata": {},
   "outputs": [
    {
     "data": {
      "text/plain": [
       "Timestamp      574\n",
       "Promotor       574\n",
       "Address        574\n",
       "Contact        574\n",
       "Language       574\n",
       "Study          574\n",
       "Tested         574\n",
       "PrimaryCare     18\n",
       "Information      1\n",
       "Precautions    501\n",
       "Meetings       500\n",
       "Revision       574\n",
       "Effects        574\n",
       "Name           107\n",
       "Phone           94\n",
       "Email            6\n",
       "Questions        7\n",
       "Fliers         574\n",
       "Assignment     574\n",
       "dtype: int64"
      ]
     },
     "execution_count": 5,
     "metadata": {},
     "output_type": "execute_result"
    }
   ],
   "source": [
    "#get number of responses to study question \n",
    "week1_count = week1_df.count()\n",
    "week1_count"
   ]
  },
  {
   "cell_type": "code",
   "execution_count": 6,
   "id": "ad0b5d87",
   "metadata": {},
   "outputs": [
    {
     "data": {
      "text/plain": [
       "Timestamp        0\n",
       "Promotor         0\n",
       "Address          0\n",
       "Contact          0\n",
       "Language         0\n",
       "Study            0\n",
       "Tested           0\n",
       "PrimaryCare    556\n",
       "Information    573\n",
       "Precautions     73\n",
       "Meetings        74\n",
       "Revision         0\n",
       "Effects          0\n",
       "Name           467\n",
       "Phone          480\n",
       "Email          568\n",
       "Questions      567\n",
       "Fliers           0\n",
       "Assignment       0\n",
       "dtype: int64"
      ]
     },
     "execution_count": 6,
     "metadata": {},
     "output_type": "execute_result"
    }
   ],
   "source": [
    "week1_df.isnull().sum()"
   ]
  },
  {
   "cell_type": "code",
   "execution_count": 7,
   "id": "2d6c46d2",
   "metadata": {},
   "outputs": [
    {
     "data": {
      "text/plain": [
       "array(['Ayde', 'Diego', 'Elizabeth', 'Jacki', 'Maria', 'Miguel'],\n",
       "      dtype=object)"
      ]
     },
     "execution_count": 7,
     "metadata": {},
     "output_type": "execute_result"
    }
   ],
   "source": [
    "week1_df.Promotor.unique()"
   ]
  },
  {
   "cell_type": "code",
   "execution_count": 8,
   "id": "1ca5f6ca",
   "metadata": {},
   "outputs": [
    {
     "data": {
      "text/plain": [
       "No          439\n",
       "Yes / Si    135\n",
       "Name: Contact, dtype: int64"
      ]
     },
     "execution_count": 8,
     "metadata": {},
     "output_type": "execute_result"
    }
   ],
   "source": [
    "week1_df.Contact.value_counts()"
   ]
  },
  {
   "cell_type": "markdown",
   "id": "63b7c9d1",
   "metadata": {
    "scrolled": true
   },
   "source": [
    "# week1_df.Language.value_counts()"
   ]
  },
  {
   "cell_type": "code",
   "execution_count": 10,
   "id": "e5358e1a",
   "metadata": {},
   "outputs": [
    {
     "data": {
      "text/plain": [
       "Did not take survey / No tomo la encuesta    503\n",
       "No                                            42\n",
       "Yes / Si                                      28\n",
       "Maybe / Quizas                                 1\n",
       "Name: Study, dtype: int64"
      ]
     },
     "execution_count": 10,
     "metadata": {},
     "output_type": "execute_result"
    }
   ],
   "source": [
    "week1_df.Study.value_counts()"
   ]
  },
  {
   "cell_type": "code",
   "execution_count": 11,
   "id": "0b22aa21",
   "metadata": {},
   "outputs": [
    {
     "data": {
      "text/plain": [
       "Did not take survey / No tomo la encuesta    503\n",
       "Yes / Si                                      28\n",
       "Does not apply / No Aplica                    23\n",
       "Maybe / Quizas                                12\n",
       "No                                             7\n",
       "Already tested / Ya les hice prueba            1\n",
       "Name: Tested, dtype: int64"
      ]
     },
     "execution_count": 11,
     "metadata": {},
     "output_type": "execute_result"
    }
   ],
   "source": [
    "week1_df.Tested.value_counts()"
   ]
  },
  {
   "cell_type": "code",
   "execution_count": 12,
   "id": "29a1eb76",
   "metadata": {},
   "outputs": [
    {
     "data": {
      "text/plain": [
       "Does not have a primary care doctor / No tiene doctor de atencion primaria    17\n",
       "Yes / Si                                                                       1\n",
       "Name: PrimaryCare, dtype: int64"
      ]
     },
     "execution_count": 12,
     "metadata": {},
     "output_type": "execute_result"
    }
   ],
   "source": [
    "week1_df.PrimaryCare.value_counts()"
   ]
  },
  {
   "cell_type": "code",
   "execution_count": 13,
   "id": "e1df7825",
   "metadata": {},
   "outputs": [
    {
     "data": {
      "text/plain": [
       "How to request lead testing from a primary care doctor / Cómo solicitar una prueba de detección de plomo a un médico de atención primaria    1\n",
       "Name: Information, dtype: int64"
      ]
     },
     "execution_count": 13,
     "metadata": {},
     "output_type": "execute_result"
    }
   ],
   "source": [
    "week1_df.Information.value_counts()"
   ]
  },
  {
   "cell_type": "code",
   "execution_count": 14,
   "id": "93c8b289",
   "metadata": {},
   "outputs": [
    {
     "data": {
      "text/plain": [
       "Did not take survey / No tomo la encuesta                                     435\n",
       "Yes / Si                                                                       52\n",
       "No                                                                              8\n",
       "Maybe / Quizas                                                                  5\n",
       "Does not have a primary care doctor / No tiene doctor de atencion primaria      1\n",
       "Name: Precautions, dtype: int64"
      ]
     },
     "execution_count": 14,
     "metadata": {},
     "output_type": "execute_result"
    }
   ],
   "source": [
    "week1_df.Precautions.value_counts()"
   ]
  },
  {
   "cell_type": "code",
   "execution_count": 15,
   "id": "8ad243a8",
   "metadata": {},
   "outputs": [
    {
     "data": {
      "text/plain": [
       "Did not take survey / No tomo la encuesta    437\n",
       "No                                            35\n",
       "Maybe / Quizas                                14\n",
       "Yes / Si                                      14\n",
       "Name: Meetings, dtype: int64"
      ]
     },
     "execution_count": 15,
     "metadata": {},
     "output_type": "execute_result"
    }
   ],
   "source": [
    "week1_df.Meetings.value_counts()"
   ]
  },
  {
   "cell_type": "code",
   "execution_count": 16,
   "id": "a597f61c",
   "metadata": {},
   "outputs": [
    {
     "data": {
      "text/plain": [
       "Did not take survey / No tomo la encuesta    507\n",
       "No                                            37\n",
       "Yes / Si                                      22\n",
       "Maybe / Quizas                                 8\n",
       "Name: Revision, dtype: int64"
      ]
     },
     "execution_count": 16,
     "metadata": {},
     "output_type": "execute_result"
    }
   ],
   "source": [
    "week1_df.Revision.value_counts()"
   ]
  },
  {
   "cell_type": "code",
   "execution_count": 17,
   "id": "b48633a2",
   "metadata": {},
   "outputs": [
    {
     "data": {
      "text/plain": [
       "Did not take survey / No tomo la encuesta    507\n",
       "Yes / Si                                      33\n",
       "No                                            29\n",
       "Maybe / Quizas                                 5\n",
       "Name: Effects, dtype: int64"
      ]
     },
     "execution_count": 17,
     "metadata": {},
     "output_type": "execute_result"
    }
   ],
   "source": [
    "week1_df.Effects.value_counts()"
   ]
  },
  {
   "cell_type": "code",
   "execution_count": 18,
   "id": "328c5c7d",
   "metadata": {},
   "outputs": [
    {
     "data": {
      "text/plain": [
       "Timestamp      574\n",
       "Promotor       574\n",
       "Address        574\n",
       "Contact        574\n",
       "Language       574\n",
       "Study          574\n",
       "Tested         574\n",
       "PrimaryCare     18\n",
       "Information      1\n",
       "Precautions    501\n",
       "Meetings       500\n",
       "Revision       574\n",
       "Effects        574\n",
       "Name           107\n",
       "Phone           94\n",
       "Email            6\n",
       "Questions        7\n",
       "Fliers         574\n",
       "Assignment     574\n",
       "dtype: int64"
      ]
     },
     "execution_count": 18,
     "metadata": {},
     "output_type": "execute_result"
    }
   ],
   "source": [
    "week1_df.notnull().sum()"
   ]
  },
  {
   "cell_type": "code",
   "execution_count": null,
   "id": "5ca49d75",
   "metadata": {},
   "outputs": [],
   "source": []
  },
  {
   "cell_type": "code",
   "execution_count": null,
   "id": "30aebea7",
   "metadata": {},
   "outputs": [],
   "source": []
  }
 ],
 "metadata": {
  "kernelspec": {
   "display_name": "PythonData",
   "language": "python",
   "name": "pythondata"
  },
  "language_info": {
   "codemirror_mode": {
    "name": "ipython",
    "version": 3
   },
   "file_extension": ".py",
   "mimetype": "text/x-python",
   "name": "python",
   "nbconvert_exporter": "python",
   "pygments_lexer": "ipython3",
   "version": "3.9.12"
  }
 },
 "nbformat": 4,
 "nbformat_minor": 5
}
