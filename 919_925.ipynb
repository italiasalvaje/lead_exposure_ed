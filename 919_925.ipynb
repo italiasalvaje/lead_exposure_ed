{
 "cells": [
  {
   "cell_type": "code",
   "execution_count": 1,
   "id": "074066e5",
   "metadata": {},
   "outputs": [],
   "source": [
    "# Add Pandas dependency\n",
    "\n",
    "import pandas as pd\n"
   ]
  },
  {
   "cell_type": "code",
   "execution_count": 2,
   "id": "65f859a0",
   "metadata": {},
   "outputs": [],
   "source": [
    "# Files to load\n",
    "week1 = \"WeeklyReports/919_925.csv\"\n",
    "\n"
   ]
  },
  {
   "cell_type": "code",
   "execution_count": 3,
   "id": "a5f8978b",
   "metadata": {},
   "outputs": [
    {
     "data": {
      "text/html": [
       "<div>\n",
       "<style scoped>\n",
       "    .dataframe tbody tr th:only-of-type {\n",
       "        vertical-align: middle;\n",
       "    }\n",
       "\n",
       "    .dataframe tbody tr th {\n",
       "        vertical-align: top;\n",
       "    }\n",
       "\n",
       "    .dataframe thead th {\n",
       "        text-align: right;\n",
       "    }\n",
       "</style>\n",
       "<table border=\"1\" class=\"dataframe\">\n",
       "  <thead>\n",
       "    <tr style=\"text-align: right;\">\n",
       "      <th></th>\n",
       "      <th>Timestamp</th>\n",
       "      <th>Promotor</th>\n",
       "      <th>Address</th>\n",
       "      <th>Contact</th>\n",
       "      <th>Language</th>\n",
       "      <th>Study</th>\n",
       "      <th>Tested</th>\n",
       "      <th>Precautions</th>\n",
       "      <th>Meetings</th>\n",
       "      <th>Revision</th>\n",
       "      <th>Effects</th>\n",
       "      <th>Name</th>\n",
       "      <th>Phone</th>\n",
       "      <th>Email</th>\n",
       "      <th>Questions</th>\n",
       "      <th>Fliers</th>\n",
       "      <th>Assignment</th>\n",
       "    </tr>\n",
       "  </thead>\n",
       "  <tbody>\n",
       "    <tr>\n",
       "      <th>0</th>\n",
       "      <td>9/19/22 9:47</td>\n",
       "      <td>Ayde</td>\n",
       "      <td>10051 Endfield Way</td>\n",
       "      <td>No</td>\n",
       "      <td>Did not take survey / No tomo la encuesta</td>\n",
       "      <td>Did not take survey / No tomo la encuesta</td>\n",
       "      <td>Did not take survey / No tomo la encuesta</td>\n",
       "      <td>Did not take survey / No tomo la encuesta</td>\n",
       "      <td>Did not take survey / No tomo la encuesta</td>\n",
       "      <td>Did not take survey / No tomo la encuesta</td>\n",
       "      <td>Did not take survey / No tomo la encuesta</td>\n",
       "      <td>NaN</td>\n",
       "      <td>NaN</td>\n",
       "      <td>NaN</td>\n",
       "      <td>NaN</td>\n",
       "      <td>Left at the address / Deje en la direccion</td>\n",
       "      <td>O</td>\n",
       "    </tr>\n",
       "    <tr>\n",
       "      <th>1</th>\n",
       "      <td>9/19/22 12:15</td>\n",
       "      <td>Ayde</td>\n",
       "      <td>10131 Stonehedge Way</td>\n",
       "      <td>Yes / Si</td>\n",
       "      <td>Spanish / Espanol</td>\n",
       "      <td>Yes / Si</td>\n",
       "      <td>Maybe / Quizas</td>\n",
       "      <td>Yes / Si</td>\n",
       "      <td>Maybe / Quizas</td>\n",
       "      <td>Yes / Si</td>\n",
       "      <td>Yes / Si</td>\n",
       "      <td>Laura hernandes</td>\n",
       "      <td>408 666 8273</td>\n",
       "      <td>NaN</td>\n",
       "      <td>NaN</td>\n",
       "      <td>Handed to resident / Entregue al residente</td>\n",
       "      <td>O</td>\n",
       "    </tr>\n",
       "    <tr>\n",
       "      <th>2</th>\n",
       "      <td>9/20/22 10:56</td>\n",
       "      <td>Ayde</td>\n",
       "      <td>337 Doris Ave</td>\n",
       "      <td>No</td>\n",
       "      <td>Did not take survey / No tomo la encuesta</td>\n",
       "      <td>Did not take survey / No tomo la encuesta</td>\n",
       "      <td>Did not take survey / No tomo la encuesta</td>\n",
       "      <td>Did not take survey / No tomo la encuesta</td>\n",
       "      <td>Did not take survey / No tomo la encuesta</td>\n",
       "      <td>Did not take survey / No tomo la encuesta</td>\n",
       "      <td>Did not take survey / No tomo la encuesta</td>\n",
       "      <td>NaN</td>\n",
       "      <td>NaN</td>\n",
       "      <td>NaN</td>\n",
       "      <td>NaN</td>\n",
       "      <td>Left at the address / Deje en la direccion</td>\n",
       "      <td>O</td>\n",
       "    </tr>\n",
       "    <tr>\n",
       "      <th>3</th>\n",
       "      <td>9/20/22 11:00</td>\n",
       "      <td>Ayde</td>\n",
       "      <td>325 Doris Ave</td>\n",
       "      <td>No</td>\n",
       "      <td>Did not take survey / No tomo la encuesta</td>\n",
       "      <td>Did not take survey / No tomo la encuesta</td>\n",
       "      <td>Did not take survey / No tomo la encuesta</td>\n",
       "      <td>Did not take survey / No tomo la encuesta</td>\n",
       "      <td>Did not take survey / No tomo la encuesta</td>\n",
       "      <td>Did not take survey / No tomo la encuesta</td>\n",
       "      <td>Did not take survey / No tomo la encuesta</td>\n",
       "      <td>NaN</td>\n",
       "      <td>NaN</td>\n",
       "      <td>NaN</td>\n",
       "      <td>NaN</td>\n",
       "      <td>Left at the address / Deje en la direccion</td>\n",
       "      <td>O</td>\n",
       "    </tr>\n",
       "    <tr>\n",
       "      <th>4</th>\n",
       "      <td>9/21/22 10:50</td>\n",
       "      <td>Ayde</td>\n",
       "      <td>13603 Marmont Way</td>\n",
       "      <td>No</td>\n",
       "      <td>Did not take survey / No tomo la encuesta</td>\n",
       "      <td>Did not take survey / No tomo la encuesta</td>\n",
       "      <td>Did not take survey / No tomo la encuesta</td>\n",
       "      <td>Did not take survey / No tomo la encuesta</td>\n",
       "      <td>Did not take survey / No tomo la encuesta</td>\n",
       "      <td>Did not take survey / No tomo la encuesta</td>\n",
       "      <td>Did not take survey / No tomo la encuesta</td>\n",
       "      <td>NaN</td>\n",
       "      <td>NaN</td>\n",
       "      <td>NaN</td>\n",
       "      <td>NaN</td>\n",
       "      <td>Left at the address / Deje en la direccion</td>\n",
       "      <td>O</td>\n",
       "    </tr>\n",
       "    <tr>\n",
       "      <th>...</th>\n",
       "      <td>...</td>\n",
       "      <td>...</td>\n",
       "      <td>...</td>\n",
       "      <td>...</td>\n",
       "      <td>...</td>\n",
       "      <td>...</td>\n",
       "      <td>...</td>\n",
       "      <td>...</td>\n",
       "      <td>...</td>\n",
       "      <td>...</td>\n",
       "      <td>...</td>\n",
       "      <td>...</td>\n",
       "      <td>...</td>\n",
       "      <td>...</td>\n",
       "      <td>...</td>\n",
       "      <td>...</td>\n",
       "      <td>...</td>\n",
       "    </tr>\n",
       "    <tr>\n",
       "      <th>950</th>\n",
       "      <td>9/23/22 14:16</td>\n",
       "      <td>Miguel</td>\n",
       "      <td>3278 Mt Rainier Dr</td>\n",
       "      <td>No</td>\n",
       "      <td>Did not take survey / No tomo la encuesta</td>\n",
       "      <td>Did not take survey / No tomo la encuesta</td>\n",
       "      <td>Did not take survey / No tomo la encuesta</td>\n",
       "      <td>Did not take survey / No tomo la encuesta</td>\n",
       "      <td>Did not take survey / No tomo la encuesta</td>\n",
       "      <td>Did not take survey / No tomo la encuesta</td>\n",
       "      <td>Did not take survey / No tomo la encuesta</td>\n",
       "      <td>NaN</td>\n",
       "      <td>NaN</td>\n",
       "      <td>NaN</td>\n",
       "      <td>NaN</td>\n",
       "      <td>Left at the address / Deje en la direccion</td>\n",
       "      <td>Q</td>\n",
       "    </tr>\n",
       "    <tr>\n",
       "      <th>951</th>\n",
       "      <td>9/23/22 14:17</td>\n",
       "      <td>Miguel</td>\n",
       "      <td>3288 Mt Rainier Dr</td>\n",
       "      <td>No</td>\n",
       "      <td>Did not take survey / No tomo la encuesta</td>\n",
       "      <td>Did not take survey / No tomo la encuesta</td>\n",
       "      <td>Did not take survey / No tomo la encuesta</td>\n",
       "      <td>Did not take survey / No tomo la encuesta</td>\n",
       "      <td>Did not take survey / No tomo la encuesta</td>\n",
       "      <td>Did not take survey / No tomo la encuesta</td>\n",
       "      <td>Did not take survey / No tomo la encuesta</td>\n",
       "      <td>NaN</td>\n",
       "      <td>NaN</td>\n",
       "      <td>NaN</td>\n",
       "      <td>NaN</td>\n",
       "      <td>Left at the address / Deje en la direccion</td>\n",
       "      <td>Q</td>\n",
       "    </tr>\n",
       "    <tr>\n",
       "      <th>952</th>\n",
       "      <td>9/23/22 14:20</td>\n",
       "      <td>Miguel</td>\n",
       "      <td>3292 Mt Rainier Dr</td>\n",
       "      <td>No</td>\n",
       "      <td>Did not take survey / No tomo la encuesta</td>\n",
       "      <td>Did not take survey / No tomo la encuesta</td>\n",
       "      <td>Did not take survey / No tomo la encuesta</td>\n",
       "      <td>Did not take survey / No tomo la encuesta</td>\n",
       "      <td>Did not take survey / No tomo la encuesta</td>\n",
       "      <td>Did not take survey / No tomo la encuesta</td>\n",
       "      <td>Did not take survey / No tomo la encuesta</td>\n",
       "      <td>NaN</td>\n",
       "      <td>NaN</td>\n",
       "      <td>NaN</td>\n",
       "      <td>NaN</td>\n",
       "      <td>Left at the address / Deje en la direccion</td>\n",
       "      <td>Q</td>\n",
       "    </tr>\n",
       "    <tr>\n",
       "      <th>953</th>\n",
       "      <td>9/23/22 14:23</td>\n",
       "      <td>Miguel</td>\n",
       "      <td>3306 Mt Rainier Dr</td>\n",
       "      <td>Yes / Si</td>\n",
       "      <td>English / Ingles</td>\n",
       "      <td>Did not take survey / No tomo la encuesta</td>\n",
       "      <td>Did not take survey / No tomo la encuesta</td>\n",
       "      <td>Did not take survey / No tomo la encuesta</td>\n",
       "      <td>Did not take survey / No tomo la encuesta</td>\n",
       "      <td>Did not take survey / No tomo la encuesta</td>\n",
       "      <td>Did not take survey / No tomo la encuesta</td>\n",
       "      <td>NaN</td>\n",
       "      <td>NaN</td>\n",
       "      <td>NaN</td>\n",
       "      <td>NaN</td>\n",
       "      <td>Did not leave fliers / No deje folletos</td>\n",
       "      <td>Q</td>\n",
       "    </tr>\n",
       "    <tr>\n",
       "      <th>954</th>\n",
       "      <td>9/23/22 14:25</td>\n",
       "      <td>Miguel</td>\n",
       "      <td>3322 Mt Rainier Dr</td>\n",
       "      <td>No</td>\n",
       "      <td>Did not take survey / No tomo la encuesta</td>\n",
       "      <td>Did not take survey / No tomo la encuesta</td>\n",
       "      <td>Did not take survey / No tomo la encuesta</td>\n",
       "      <td>Did not take survey / No tomo la encuesta</td>\n",
       "      <td>Did not take survey / No tomo la encuesta</td>\n",
       "      <td>Did not take survey / No tomo la encuesta</td>\n",
       "      <td>Did not take survey / No tomo la encuesta</td>\n",
       "      <td>NaN</td>\n",
       "      <td>NaN</td>\n",
       "      <td>NaN</td>\n",
       "      <td>NaN</td>\n",
       "      <td>Left at the address / Deje en la direccion</td>\n",
       "      <td>Q</td>\n",
       "    </tr>\n",
       "  </tbody>\n",
       "</table>\n",
       "<p>955 rows × 17 columns</p>\n",
       "</div>"
      ],
      "text/plain": [
       "         Timestamp Promotor               Address   Contact  \\\n",
       "0     9/19/22 9:47     Ayde    10051 Endfield Way        No   \n",
       "1    9/19/22 12:15     Ayde  10131 Stonehedge Way  Yes / Si   \n",
       "2    9/20/22 10:56     Ayde         337 Doris Ave        No   \n",
       "3    9/20/22 11:00     Ayde         325 Doris Ave        No   \n",
       "4    9/21/22 10:50     Ayde     13603 Marmont Way        No   \n",
       "..             ...      ...                   ...       ...   \n",
       "950  9/23/22 14:16   Miguel    3278 Mt Rainier Dr        No   \n",
       "951  9/23/22 14:17   Miguel    3288 Mt Rainier Dr        No   \n",
       "952  9/23/22 14:20   Miguel    3292 Mt Rainier Dr        No   \n",
       "953  9/23/22 14:23   Miguel    3306 Mt Rainier Dr  Yes / Si   \n",
       "954  9/23/22 14:25   Miguel    3322 Mt Rainier Dr        No   \n",
       "\n",
       "                                      Language  \\\n",
       "0    Did not take survey / No tomo la encuesta   \n",
       "1                            Spanish / Espanol   \n",
       "2    Did not take survey / No tomo la encuesta   \n",
       "3    Did not take survey / No tomo la encuesta   \n",
       "4    Did not take survey / No tomo la encuesta   \n",
       "..                                         ...   \n",
       "950  Did not take survey / No tomo la encuesta   \n",
       "951  Did not take survey / No tomo la encuesta   \n",
       "952  Did not take survey / No tomo la encuesta   \n",
       "953                           English / Ingles   \n",
       "954  Did not take survey / No tomo la encuesta   \n",
       "\n",
       "                                         Study  \\\n",
       "0    Did not take survey / No tomo la encuesta   \n",
       "1                                     Yes / Si   \n",
       "2    Did not take survey / No tomo la encuesta   \n",
       "3    Did not take survey / No tomo la encuesta   \n",
       "4    Did not take survey / No tomo la encuesta   \n",
       "..                                         ...   \n",
       "950  Did not take survey / No tomo la encuesta   \n",
       "951  Did not take survey / No tomo la encuesta   \n",
       "952  Did not take survey / No tomo la encuesta   \n",
       "953  Did not take survey / No tomo la encuesta   \n",
       "954  Did not take survey / No tomo la encuesta   \n",
       "\n",
       "                                        Tested  \\\n",
       "0    Did not take survey / No tomo la encuesta   \n",
       "1                               Maybe / Quizas   \n",
       "2    Did not take survey / No tomo la encuesta   \n",
       "3    Did not take survey / No tomo la encuesta   \n",
       "4    Did not take survey / No tomo la encuesta   \n",
       "..                                         ...   \n",
       "950  Did not take survey / No tomo la encuesta   \n",
       "951  Did not take survey / No tomo la encuesta   \n",
       "952  Did not take survey / No tomo la encuesta   \n",
       "953  Did not take survey / No tomo la encuesta   \n",
       "954  Did not take survey / No tomo la encuesta   \n",
       "\n",
       "                                   Precautions  \\\n",
       "0    Did not take survey / No tomo la encuesta   \n",
       "1                                     Yes / Si   \n",
       "2    Did not take survey / No tomo la encuesta   \n",
       "3    Did not take survey / No tomo la encuesta   \n",
       "4    Did not take survey / No tomo la encuesta   \n",
       "..                                         ...   \n",
       "950  Did not take survey / No tomo la encuesta   \n",
       "951  Did not take survey / No tomo la encuesta   \n",
       "952  Did not take survey / No tomo la encuesta   \n",
       "953  Did not take survey / No tomo la encuesta   \n",
       "954  Did not take survey / No tomo la encuesta   \n",
       "\n",
       "                                      Meetings  \\\n",
       "0    Did not take survey / No tomo la encuesta   \n",
       "1                               Maybe / Quizas   \n",
       "2    Did not take survey / No tomo la encuesta   \n",
       "3    Did not take survey / No tomo la encuesta   \n",
       "4    Did not take survey / No tomo la encuesta   \n",
       "..                                         ...   \n",
       "950  Did not take survey / No tomo la encuesta   \n",
       "951  Did not take survey / No tomo la encuesta   \n",
       "952  Did not take survey / No tomo la encuesta   \n",
       "953  Did not take survey / No tomo la encuesta   \n",
       "954  Did not take survey / No tomo la encuesta   \n",
       "\n",
       "                                      Revision  \\\n",
       "0    Did not take survey / No tomo la encuesta   \n",
       "1                                     Yes / Si   \n",
       "2    Did not take survey / No tomo la encuesta   \n",
       "3    Did not take survey / No tomo la encuesta   \n",
       "4    Did not take survey / No tomo la encuesta   \n",
       "..                                         ...   \n",
       "950  Did not take survey / No tomo la encuesta   \n",
       "951  Did not take survey / No tomo la encuesta   \n",
       "952  Did not take survey / No tomo la encuesta   \n",
       "953  Did not take survey / No tomo la encuesta   \n",
       "954  Did not take survey / No tomo la encuesta   \n",
       "\n",
       "                                       Effects             Name         Phone  \\\n",
       "0    Did not take survey / No tomo la encuesta              NaN           NaN   \n",
       "1                                     Yes / Si  Laura hernandes  408 666 8273   \n",
       "2    Did not take survey / No tomo la encuesta              NaN           NaN   \n",
       "3    Did not take survey / No tomo la encuesta              NaN           NaN   \n",
       "4    Did not take survey / No tomo la encuesta              NaN           NaN   \n",
       "..                                         ...              ...           ...   \n",
       "950  Did not take survey / No tomo la encuesta              NaN           NaN   \n",
       "951  Did not take survey / No tomo la encuesta              NaN           NaN   \n",
       "952  Did not take survey / No tomo la encuesta              NaN           NaN   \n",
       "953  Did not take survey / No tomo la encuesta              NaN           NaN   \n",
       "954  Did not take survey / No tomo la encuesta              NaN           NaN   \n",
       "\n",
       "    Email Questions                                      Fliers Assignment  \n",
       "0     NaN       NaN  Left at the address / Deje en la direccion          O  \n",
       "1     NaN       NaN  Handed to resident / Entregue al residente          O  \n",
       "2     NaN       NaN  Left at the address / Deje en la direccion          O  \n",
       "3     NaN       NaN  Left at the address / Deje en la direccion          O  \n",
       "4     NaN       NaN  Left at the address / Deje en la direccion          O  \n",
       "..    ...       ...                                         ...        ...  \n",
       "950   NaN       NaN  Left at the address / Deje en la direccion          Q  \n",
       "951   NaN       NaN  Left at the address / Deje en la direccion          Q  \n",
       "952   NaN       NaN  Left at the address / Deje en la direccion          Q  \n",
       "953   NaN       NaN     Did not leave fliers / No deje folletos          Q  \n",
       "954   NaN       NaN  Left at the address / Deje en la direccion          Q  \n",
       "\n",
       "[955 rows x 17 columns]"
      ]
     },
     "execution_count": 3,
     "metadata": {},
     "output_type": "execute_result"
    }
   ],
   "source": [
    "# Read RHV addresses \n",
    "\n",
    "week1_df = pd.read_csv(week1)\n",
    "week1_df"
   ]
  },
  {
   "cell_type": "code",
   "execution_count": 4,
   "id": "d5d84dee",
   "metadata": {},
   "outputs": [
    {
     "data": {
      "text/plain": [
       "Timestamp      955\n",
       "Promotor       955\n",
       "Address        955\n",
       "Contact        955\n",
       "Language       955\n",
       "Study          955\n",
       "Tested         955\n",
       "Precautions    955\n",
       "Meetings       955\n",
       "Revision       955\n",
       "Effects        955\n",
       "Name            63\n",
       "Phone           43\n",
       "Email           11\n",
       "Questions       20\n",
       "Fliers         955\n",
       "Assignment     955\n",
       "dtype: int64"
      ]
     },
     "execution_count": 4,
     "metadata": {},
     "output_type": "execute_result"
    }
   ],
   "source": [
    "#get number of responses to study question \n",
    "week1_count = week1_df.count()\n",
    "week1_count"
   ]
  },
  {
   "cell_type": "code",
   "execution_count": 5,
   "id": "ad0b5d87",
   "metadata": {},
   "outputs": [
    {
     "data": {
      "text/plain": [
       "Timestamp        0\n",
       "Promotor         0\n",
       "Address          0\n",
       "Contact          0\n",
       "Language         0\n",
       "Study            0\n",
       "Tested           0\n",
       "Precautions      0\n",
       "Meetings         0\n",
       "Revision         0\n",
       "Effects          0\n",
       "Name           892\n",
       "Phone          912\n",
       "Email          944\n",
       "Questions      935\n",
       "Fliers           0\n",
       "Assignment       0\n",
       "dtype: int64"
      ]
     },
     "execution_count": 5,
     "metadata": {},
     "output_type": "execute_result"
    }
   ],
   "source": [
    "week1_df.isnull().sum()"
   ]
  },
  {
   "cell_type": "code",
   "execution_count": 6,
   "id": "2d6c46d2",
   "metadata": {},
   "outputs": [
    {
     "data": {
      "text/plain": [
       "array(['Ayde', 'Diego', 'Elizabeth', 'Jacki', 'Maria', 'Miguel'],\n",
       "      dtype=object)"
      ]
     },
     "execution_count": 6,
     "metadata": {},
     "output_type": "execute_result"
    }
   ],
   "source": [
    "week1_df.Promotor.unique()"
   ]
  },
  {
   "cell_type": "code",
   "execution_count": 7,
   "id": "1ca5f6ca",
   "metadata": {},
   "outputs": [
    {
     "data": {
      "text/plain": [
       "No          772\n",
       "Yes / Si    183\n",
       "Name: Contact, dtype: int64"
      ]
     },
     "execution_count": 7,
     "metadata": {},
     "output_type": "execute_result"
    }
   ],
   "source": [
    "week1_df.Contact.value_counts()"
   ]
  },
  {
   "cell_type": "code",
   "execution_count": 8,
   "id": "cebadbf5",
   "metadata": {
    "scrolled": true
   },
   "outputs": [
    {
     "data": {
      "text/plain": [
       "Did not take survey / No tomo la encuesta    778\n",
       "Spanish / Espanol                             86\n",
       "English / Ingles                              82\n",
       "Vietnamese                                     8\n",
       "Chinese (Madarin/Cantonese)                    1\n",
       "Name: Language, dtype: int64"
      ]
     },
     "execution_count": 8,
     "metadata": {},
     "output_type": "execute_result"
    }
   ],
   "source": [
    "week1_df.Language.value_counts()"
   ]
  },
  {
   "cell_type": "code",
   "execution_count": 9,
   "id": "e5358e1a",
   "metadata": {},
   "outputs": [
    {
     "data": {
      "text/plain": [
       "Did not take survey / No tomo la encuesta    858\n",
       "No                                            55\n",
       "Yes / Si                                      39\n",
       "Maybe / Quizas                                 3\n",
       "Name: Study, dtype: int64"
      ]
     },
     "execution_count": 9,
     "metadata": {},
     "output_type": "execute_result"
    }
   ],
   "source": [
    "week1_df.Study.value_counts()"
   ]
  },
  {
   "cell_type": "code",
   "execution_count": 10,
   "id": "0b22aa21",
   "metadata": {},
   "outputs": [
    {
     "data": {
      "text/plain": [
       "Did not take survey / No tomo la encuesta    859\n",
       "Yes / Si                                      41\n",
       "Does not apply / No Aplica                    22\n",
       "Maybe / Quizas                                18\n",
       "No                                            11\n",
       "Already tested / Ya les hice prueba            4\n",
       "Name: Tested, dtype: int64"
      ]
     },
     "execution_count": 10,
     "metadata": {},
     "output_type": "execute_result"
    }
   ],
   "source": [
    "week1_df.Tested.value_counts()"
   ]
  },
  {
   "cell_type": "code",
   "execution_count": 11,
   "id": "93c8b289",
   "metadata": {},
   "outputs": [
    {
     "data": {
      "text/plain": [
       "Did not take survey / No tomo la encuesta    861\n",
       "Yes / Si                                      81\n",
       "No                                             7\n",
       "Maybe / Quizas                                 6\n",
       "Name: Precautions, dtype: int64"
      ]
     },
     "execution_count": 11,
     "metadata": {},
     "output_type": "execute_result"
    }
   ],
   "source": [
    "week1_df.Precautions.value_counts()"
   ]
  },
  {
   "cell_type": "code",
   "execution_count": 12,
   "id": "8ad243a8",
   "metadata": {},
   "outputs": [
    {
     "data": {
      "text/plain": [
       "Did not take survey / No tomo la encuesta    863\n",
       "No                                            50\n",
       "Yes / Si                                      26\n",
       "Maybe / Quizas                                16\n",
       "Name: Meetings, dtype: int64"
      ]
     },
     "execution_count": 12,
     "metadata": {},
     "output_type": "execute_result"
    }
   ],
   "source": [
    "week1_df.Meetings.value_counts()"
   ]
  },
  {
   "cell_type": "code",
   "execution_count": 13,
   "id": "a597f61c",
   "metadata": {},
   "outputs": [
    {
     "data": {
      "text/plain": [
       "Did not take survey / No tomo la encuesta    863\n",
       "No                                            47\n",
       "Yes / Si                                      28\n",
       "Maybe / Quizas                                17\n",
       "Name: Revision, dtype: int64"
      ]
     },
     "execution_count": 13,
     "metadata": {},
     "output_type": "execute_result"
    }
   ],
   "source": [
    "week1_df.Revision.value_counts()"
   ]
  },
  {
   "cell_type": "code",
   "execution_count": 14,
   "id": "b48633a2",
   "metadata": {},
   "outputs": [
    {
     "data": {
      "text/plain": [
       "Did not take survey / No tomo la encuesta    863\n",
       "Yes / Si                                      45\n",
       "No                                            33\n",
       "Maybe / Quizas                                14\n",
       "Name: Effects, dtype: int64"
      ]
     },
     "execution_count": 14,
     "metadata": {},
     "output_type": "execute_result"
    }
   ],
   "source": [
    "week1_df.Effects.value_counts()"
   ]
  },
  {
   "cell_type": "code",
   "execution_count": 15,
   "id": "328c5c7d",
   "metadata": {},
   "outputs": [
    {
     "data": {
      "text/plain": [
       "Timestamp      955\n",
       "Promotor       955\n",
       "Address        955\n",
       "Contact        955\n",
       "Language       955\n",
       "Study          955\n",
       "Tested         955\n",
       "Precautions    955\n",
       "Meetings       955\n",
       "Revision       955\n",
       "Effects        955\n",
       "Name            63\n",
       "Phone           43\n",
       "Email           11\n",
       "Questions       20\n",
       "Fliers         955\n",
       "Assignment     955\n",
       "dtype: int64"
      ]
     },
     "execution_count": 15,
     "metadata": {},
     "output_type": "execute_result"
    }
   ],
   "source": [
    "week1_df.notnull().sum()"
   ]
  },
  {
   "cell_type": "code",
   "execution_count": null,
   "id": "5ca49d75",
   "metadata": {},
   "outputs": [],
   "source": []
  },
  {
   "cell_type": "code",
   "execution_count": null,
   "id": "30aebea7",
   "metadata": {},
   "outputs": [],
   "source": []
  }
 ],
 "metadata": {
  "kernelspec": {
   "display_name": "PythonData",
   "language": "python",
   "name": "pythondata"
  },
  "language_info": {
   "codemirror_mode": {
    "name": "ipython",
    "version": 3
   },
   "file_extension": ".py",
   "mimetype": "text/x-python",
   "name": "python",
   "nbconvert_exporter": "python",
   "pygments_lexer": "ipython3",
   "version": "3.9.12"
  }
 },
 "nbformat": 4,
 "nbformat_minor": 5
}
