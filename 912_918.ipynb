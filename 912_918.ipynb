{
 "cells": [
  {
   "cell_type": "code",
   "execution_count": 1,
   "id": "074066e5",
   "metadata": {},
   "outputs": [],
   "source": [
    "# Add Pandas dependency\n",
    "\n",
    "import pandas as pd\n"
   ]
  },
  {
   "cell_type": "code",
   "execution_count": 2,
   "id": "65f859a0",
   "metadata": {},
   "outputs": [],
   "source": [
    "# Files to load\n",
    "week1 = \"WeeklyReports/912_918.csv\"\n",
    "\n"
   ]
  },
  {
   "cell_type": "code",
   "execution_count": 3,
   "id": "a5f8978b",
   "metadata": {},
   "outputs": [
    {
     "data": {
      "text/html": [
       "<div>\n",
       "<style scoped>\n",
       "    .dataframe tbody tr th:only-of-type {\n",
       "        vertical-align: middle;\n",
       "    }\n",
       "\n",
       "    .dataframe tbody tr th {\n",
       "        vertical-align: top;\n",
       "    }\n",
       "\n",
       "    .dataframe thead th {\n",
       "        text-align: right;\n",
       "    }\n",
       "</style>\n",
       "<table border=\"1\" class=\"dataframe\">\n",
       "  <thead>\n",
       "    <tr style=\"text-align: right;\">\n",
       "      <th></th>\n",
       "      <th>Timestamp</th>\n",
       "      <th>Promotor</th>\n",
       "      <th>Address</th>\n",
       "      <th>Contact</th>\n",
       "      <th>Language</th>\n",
       "      <th>Study</th>\n",
       "      <th>Tested</th>\n",
       "      <th>Precautions</th>\n",
       "      <th>Meetings</th>\n",
       "      <th>Revision</th>\n",
       "      <th>Effects</th>\n",
       "      <th>Name</th>\n",
       "      <th>Phone</th>\n",
       "      <th>Email</th>\n",
       "      <th>Questions</th>\n",
       "      <th>Fliers</th>\n",
       "      <th>Assignment</th>\n",
       "    </tr>\n",
       "  </thead>\n",
       "  <tbody>\n",
       "    <tr>\n",
       "      <th>0</th>\n",
       "      <td>9/12/22 14:40</td>\n",
       "      <td>Maria</td>\n",
       "      <td>2444 Clyda Dr</td>\n",
       "      <td>No</td>\n",
       "      <td>Did not take survey / No tomo la encuesta</td>\n",
       "      <td>Did not take survey / No tomo la encuesta</td>\n",
       "      <td>Did not take survey / No tomo la encuesta</td>\n",
       "      <td>Did not take survey / No tomo la encuesta</td>\n",
       "      <td>Did not take survey / No tomo la encuesta</td>\n",
       "      <td>Did not take survey / No tomo la encuesta</td>\n",
       "      <td>Did not take survey / No tomo la encuesta</td>\n",
       "      <td>NaN</td>\n",
       "      <td>NaN</td>\n",
       "      <td>NaN</td>\n",
       "      <td>NaN</td>\n",
       "      <td>Left at the address / Deje en la direccion</td>\n",
       "      <td>N</td>\n",
       "    </tr>\n",
       "    <tr>\n",
       "      <th>1</th>\n",
       "      <td>9/12/22 14:42</td>\n",
       "      <td>Jacki</td>\n",
       "      <td>2448 Clyda Dr</td>\n",
       "      <td>No</td>\n",
       "      <td>Spanish / Espanol</td>\n",
       "      <td>Did not take survey / No tomo la encuesta</td>\n",
       "      <td>Did not take survey / No tomo la encuesta</td>\n",
       "      <td>Did not take survey / No tomo la encuesta</td>\n",
       "      <td>Did not take survey / No tomo la encuesta</td>\n",
       "      <td>Did not take survey / No tomo la encuesta</td>\n",
       "      <td>Did not take survey / No tomo la encuesta</td>\n",
       "      <td>NaN</td>\n",
       "      <td>NaN</td>\n",
       "      <td>NaN</td>\n",
       "      <td>NaN</td>\n",
       "      <td>Left at the address / Deje en la direccion</td>\n",
       "      <td>N</td>\n",
       "    </tr>\n",
       "    <tr>\n",
       "      <th>2</th>\n",
       "      <td>9/12/22 14:49</td>\n",
       "      <td>Maria</td>\n",
       "      <td>2450 Clyda Dr</td>\n",
       "      <td>Yes / Si</td>\n",
       "      <td>Spanish / Espanol</td>\n",
       "      <td>Yes / Si</td>\n",
       "      <td>Yes / Si</td>\n",
       "      <td>Yes / Si</td>\n",
       "      <td>No</td>\n",
       "      <td>Yes / Si</td>\n",
       "      <td>No</td>\n",
       "      <td>Efraín Cantor</td>\n",
       "      <td>6698292107</td>\n",
       "      <td>NaN</td>\n",
       "      <td>NaN</td>\n",
       "      <td>Handed to resident / Entregue al residente</td>\n",
       "      <td>N</td>\n",
       "    </tr>\n",
       "    <tr>\n",
       "      <th>3</th>\n",
       "      <td>9/12/22 14:52</td>\n",
       "      <td>Jacki</td>\n",
       "      <td>2452 Clyda Dr</td>\n",
       "      <td>No</td>\n",
       "      <td>Spanish / Espanol</td>\n",
       "      <td>Did not take survey / No tomo la encuesta</td>\n",
       "      <td>Did not take survey / No tomo la encuesta</td>\n",
       "      <td>Did not take survey / No tomo la encuesta</td>\n",
       "      <td>Did not take survey / No tomo la encuesta</td>\n",
       "      <td>Did not take survey / No tomo la encuesta</td>\n",
       "      <td>Did not take survey / No tomo la encuesta</td>\n",
       "      <td>NaN</td>\n",
       "      <td>NaN</td>\n",
       "      <td>NaN</td>\n",
       "      <td>NaN</td>\n",
       "      <td>Did not leave fliers / No deje folletos</td>\n",
       "      <td>N</td>\n",
       "    </tr>\n",
       "    <tr>\n",
       "      <th>4</th>\n",
       "      <td>9/12/22 14:52</td>\n",
       "      <td>Maria</td>\n",
       "      <td>2454 Clyda Dr</td>\n",
       "      <td>No</td>\n",
       "      <td>Did not take survey / No tomo la encuesta</td>\n",
       "      <td>Did not take survey / No tomo la encuesta</td>\n",
       "      <td>Did not take survey / No tomo la encuesta</td>\n",
       "      <td>Did not take survey / No tomo la encuesta</td>\n",
       "      <td>Did not take survey / No tomo la encuesta</td>\n",
       "      <td>Did not take survey / No tomo la encuesta</td>\n",
       "      <td>Did not take survey / No tomo la encuesta</td>\n",
       "      <td>NaN</td>\n",
       "      <td>NaN</td>\n",
       "      <td>NaN</td>\n",
       "      <td>NaN</td>\n",
       "      <td>Left at the address / Deje en la direccion</td>\n",
       "      <td>N</td>\n",
       "    </tr>\n",
       "    <tr>\n",
       "      <th>...</th>\n",
       "      <td>...</td>\n",
       "      <td>...</td>\n",
       "      <td>...</td>\n",
       "      <td>...</td>\n",
       "      <td>...</td>\n",
       "      <td>...</td>\n",
       "      <td>...</td>\n",
       "      <td>...</td>\n",
       "      <td>...</td>\n",
       "      <td>...</td>\n",
       "      <td>...</td>\n",
       "      <td>...</td>\n",
       "      <td>...</td>\n",
       "      <td>...</td>\n",
       "      <td>...</td>\n",
       "      <td>...</td>\n",
       "      <td>...</td>\n",
       "    </tr>\n",
       "    <tr>\n",
       "      <th>740</th>\n",
       "      <td>9/15/22 14:56</td>\n",
       "      <td>Miguel</td>\n",
       "      <td>1383 Tami Lee Dr Unit 4</td>\n",
       "      <td>No</td>\n",
       "      <td>Did not take survey / No tomo la encuesta</td>\n",
       "      <td>Did not take survey / No tomo la encuesta</td>\n",
       "      <td>Did not take survey / No tomo la encuesta</td>\n",
       "      <td>Did not take survey / No tomo la encuesta</td>\n",
       "      <td>Did not take survey / No tomo la encuesta</td>\n",
       "      <td>Did not take survey / No tomo la encuesta</td>\n",
       "      <td>Did not take survey / No tomo la encuesta</td>\n",
       "      <td>NaN</td>\n",
       "      <td>NaN</td>\n",
       "      <td>NaN</td>\n",
       "      <td>NaN</td>\n",
       "      <td>Left at the address / Deje en la direccion</td>\n",
       "      <td>J</td>\n",
       "    </tr>\n",
       "    <tr>\n",
       "      <th>741</th>\n",
       "      <td>9/15/22 15:00</td>\n",
       "      <td>Miguel</td>\n",
       "      <td>1391 Tami Lee Dr Unit 4</td>\n",
       "      <td>No</td>\n",
       "      <td>Did not take survey / No tomo la encuesta</td>\n",
       "      <td>Did not take survey / No tomo la encuesta</td>\n",
       "      <td>Did not take survey / No tomo la encuesta</td>\n",
       "      <td>Did not take survey / No tomo la encuesta</td>\n",
       "      <td>Did not take survey / No tomo la encuesta</td>\n",
       "      <td>Did not take survey / No tomo la encuesta</td>\n",
       "      <td>Did not take survey / No tomo la encuesta</td>\n",
       "      <td>NaN</td>\n",
       "      <td>NaN</td>\n",
       "      <td>NaN</td>\n",
       "      <td>NaN</td>\n",
       "      <td>Left at the address / Deje en la direccion</td>\n",
       "      <td>J</td>\n",
       "    </tr>\n",
       "    <tr>\n",
       "      <th>742</th>\n",
       "      <td>9/15/22 15:13</td>\n",
       "      <td>Miguel</td>\n",
       "      <td>1407 Tami Lee Dr Unit 4</td>\n",
       "      <td>No</td>\n",
       "      <td>Did not take survey / No tomo la encuesta</td>\n",
       "      <td>Did not take survey / No tomo la encuesta</td>\n",
       "      <td>Did not take survey / No tomo la encuesta</td>\n",
       "      <td>Did not take survey / No tomo la encuesta</td>\n",
       "      <td>Did not take survey / No tomo la encuesta</td>\n",
       "      <td>Did not take survey / No tomo la encuesta</td>\n",
       "      <td>Did not take survey / No tomo la encuesta</td>\n",
       "      <td>NaN</td>\n",
       "      <td>NaN</td>\n",
       "      <td>NaN</td>\n",
       "      <td>NaN</td>\n",
       "      <td>Handed to resident / Entregue al residente</td>\n",
       "      <td>J</td>\n",
       "    </tr>\n",
       "    <tr>\n",
       "      <th>743</th>\n",
       "      <td>9/15/22 15:17</td>\n",
       "      <td>Miguel</td>\n",
       "      <td>1423 Tami Lee Dr Unit 4</td>\n",
       "      <td>Yes / Si</td>\n",
       "      <td>Did not take survey / No tomo la encuesta</td>\n",
       "      <td>Did not take survey / No tomo la encuesta</td>\n",
       "      <td>Did not take survey / No tomo la encuesta</td>\n",
       "      <td>Did not take survey / No tomo la encuesta</td>\n",
       "      <td>Did not take survey / No tomo la encuesta</td>\n",
       "      <td>Did not take survey / No tomo la encuesta</td>\n",
       "      <td>Did not take survey / No tomo la encuesta</td>\n",
       "      <td>NaN</td>\n",
       "      <td>NaN</td>\n",
       "      <td>NaN</td>\n",
       "      <td>NaN</td>\n",
       "      <td>Handed to resident / Entregue al residente</td>\n",
       "      <td>J</td>\n",
       "    </tr>\n",
       "    <tr>\n",
       "      <th>744</th>\n",
       "      <td>9/15/22 15:21</td>\n",
       "      <td>Miguel</td>\n",
       "      <td>1439 Tami Lee Dr Unit 4</td>\n",
       "      <td>No</td>\n",
       "      <td>Did not take survey / No tomo la encuesta</td>\n",
       "      <td>Did not take survey / No tomo la encuesta</td>\n",
       "      <td>Did not take survey / No tomo la encuesta</td>\n",
       "      <td>Did not take survey / No tomo la encuesta</td>\n",
       "      <td>Did not take survey / No tomo la encuesta</td>\n",
       "      <td>Did not take survey / No tomo la encuesta</td>\n",
       "      <td>Did not take survey / No tomo la encuesta</td>\n",
       "      <td>NaN</td>\n",
       "      <td>NaN</td>\n",
       "      <td>NaN</td>\n",
       "      <td>NaN</td>\n",
       "      <td>Left at the address / Deje en la direccion</td>\n",
       "      <td>J</td>\n",
       "    </tr>\n",
       "  </tbody>\n",
       "</table>\n",
       "<p>745 rows × 17 columns</p>\n",
       "</div>"
      ],
      "text/plain": [
       "         Timestamp Promotor                  Address   Contact  \\\n",
       "0    9/12/22 14:40    Maria            2444 Clyda Dr        No   \n",
       "1    9/12/22 14:42    Jacki            2448 Clyda Dr        No   \n",
       "2    9/12/22 14:49    Maria            2450 Clyda Dr  Yes / Si   \n",
       "3    9/12/22 14:52    Jacki            2452 Clyda Dr        No   \n",
       "4    9/12/22 14:52    Maria            2454 Clyda Dr        No   \n",
       "..             ...      ...                      ...       ...   \n",
       "740  9/15/22 14:56   Miguel  1383 Tami Lee Dr Unit 4        No   \n",
       "741  9/15/22 15:00   Miguel  1391 Tami Lee Dr Unit 4        No   \n",
       "742  9/15/22 15:13   Miguel  1407 Tami Lee Dr Unit 4        No   \n",
       "743  9/15/22 15:17   Miguel  1423 Tami Lee Dr Unit 4  Yes / Si   \n",
       "744  9/15/22 15:21   Miguel  1439 Tami Lee Dr Unit 4        No   \n",
       "\n",
       "                                      Language  \\\n",
       "0    Did not take survey / No tomo la encuesta   \n",
       "1                            Spanish / Espanol   \n",
       "2                            Spanish / Espanol   \n",
       "3                            Spanish / Espanol   \n",
       "4    Did not take survey / No tomo la encuesta   \n",
       "..                                         ...   \n",
       "740  Did not take survey / No tomo la encuesta   \n",
       "741  Did not take survey / No tomo la encuesta   \n",
       "742  Did not take survey / No tomo la encuesta   \n",
       "743  Did not take survey / No tomo la encuesta   \n",
       "744  Did not take survey / No tomo la encuesta   \n",
       "\n",
       "                                         Study  \\\n",
       "0    Did not take survey / No tomo la encuesta   \n",
       "1    Did not take survey / No tomo la encuesta   \n",
       "2                                     Yes / Si   \n",
       "3    Did not take survey / No tomo la encuesta   \n",
       "4    Did not take survey / No tomo la encuesta   \n",
       "..                                         ...   \n",
       "740  Did not take survey / No tomo la encuesta   \n",
       "741  Did not take survey / No tomo la encuesta   \n",
       "742  Did not take survey / No tomo la encuesta   \n",
       "743  Did not take survey / No tomo la encuesta   \n",
       "744  Did not take survey / No tomo la encuesta   \n",
       "\n",
       "                                        Tested  \\\n",
       "0    Did not take survey / No tomo la encuesta   \n",
       "1    Did not take survey / No tomo la encuesta   \n",
       "2                                     Yes / Si   \n",
       "3    Did not take survey / No tomo la encuesta   \n",
       "4    Did not take survey / No tomo la encuesta   \n",
       "..                                         ...   \n",
       "740  Did not take survey / No tomo la encuesta   \n",
       "741  Did not take survey / No tomo la encuesta   \n",
       "742  Did not take survey / No tomo la encuesta   \n",
       "743  Did not take survey / No tomo la encuesta   \n",
       "744  Did not take survey / No tomo la encuesta   \n",
       "\n",
       "                                   Precautions  \\\n",
       "0    Did not take survey / No tomo la encuesta   \n",
       "1    Did not take survey / No tomo la encuesta   \n",
       "2                                     Yes / Si   \n",
       "3    Did not take survey / No tomo la encuesta   \n",
       "4    Did not take survey / No tomo la encuesta   \n",
       "..                                         ...   \n",
       "740  Did not take survey / No tomo la encuesta   \n",
       "741  Did not take survey / No tomo la encuesta   \n",
       "742  Did not take survey / No tomo la encuesta   \n",
       "743  Did not take survey / No tomo la encuesta   \n",
       "744  Did not take survey / No tomo la encuesta   \n",
       "\n",
       "                                      Meetings  \\\n",
       "0    Did not take survey / No tomo la encuesta   \n",
       "1    Did not take survey / No tomo la encuesta   \n",
       "2                                           No   \n",
       "3    Did not take survey / No tomo la encuesta   \n",
       "4    Did not take survey / No tomo la encuesta   \n",
       "..                                         ...   \n",
       "740  Did not take survey / No tomo la encuesta   \n",
       "741  Did not take survey / No tomo la encuesta   \n",
       "742  Did not take survey / No tomo la encuesta   \n",
       "743  Did not take survey / No tomo la encuesta   \n",
       "744  Did not take survey / No tomo la encuesta   \n",
       "\n",
       "                                      Revision  \\\n",
       "0    Did not take survey / No tomo la encuesta   \n",
       "1    Did not take survey / No tomo la encuesta   \n",
       "2                                     Yes / Si   \n",
       "3    Did not take survey / No tomo la encuesta   \n",
       "4    Did not take survey / No tomo la encuesta   \n",
       "..                                         ...   \n",
       "740  Did not take survey / No tomo la encuesta   \n",
       "741  Did not take survey / No tomo la encuesta   \n",
       "742  Did not take survey / No tomo la encuesta   \n",
       "743  Did not take survey / No tomo la encuesta   \n",
       "744  Did not take survey / No tomo la encuesta   \n",
       "\n",
       "                                       Effects           Name       Phone  \\\n",
       "0    Did not take survey / No tomo la encuesta            NaN         NaN   \n",
       "1    Did not take survey / No tomo la encuesta            NaN         NaN   \n",
       "2                                           No  Efraín Cantor  6698292107   \n",
       "3    Did not take survey / No tomo la encuesta            NaN         NaN   \n",
       "4    Did not take survey / No tomo la encuesta            NaN         NaN   \n",
       "..                                         ...            ...         ...   \n",
       "740  Did not take survey / No tomo la encuesta            NaN         NaN   \n",
       "741  Did not take survey / No tomo la encuesta            NaN         NaN   \n",
       "742  Did not take survey / No tomo la encuesta            NaN         NaN   \n",
       "743  Did not take survey / No tomo la encuesta            NaN         NaN   \n",
       "744  Did not take survey / No tomo la encuesta            NaN         NaN   \n",
       "\n",
       "    Email Questions                                      Fliers Assignment  \n",
       "0     NaN       NaN  Left at the address / Deje en la direccion          N  \n",
       "1     NaN       NaN  Left at the address / Deje en la direccion          N  \n",
       "2     NaN       NaN  Handed to resident / Entregue al residente          N  \n",
       "3     NaN       NaN     Did not leave fliers / No deje folletos          N  \n",
       "4     NaN       NaN  Left at the address / Deje en la direccion          N  \n",
       "..    ...       ...                                         ...        ...  \n",
       "740   NaN       NaN  Left at the address / Deje en la direccion          J  \n",
       "741   NaN       NaN  Left at the address / Deje en la direccion          J  \n",
       "742   NaN       NaN  Handed to resident / Entregue al residente          J  \n",
       "743   NaN       NaN  Handed to resident / Entregue al residente          J  \n",
       "744   NaN       NaN  Left at the address / Deje en la direccion          J  \n",
       "\n",
       "[745 rows x 17 columns]"
      ]
     },
     "execution_count": 3,
     "metadata": {},
     "output_type": "execute_result"
    }
   ],
   "source": [
    "# Read RHV addresses \n",
    "\n",
    "week1_df = pd.read_csv(week1)\n",
    "week1_df"
   ]
  },
  {
   "cell_type": "code",
   "execution_count": 4,
   "id": "d5d84dee",
   "metadata": {},
   "outputs": [
    {
     "data": {
      "text/plain": [
       "Timestamp      745\n",
       "Promotor       745\n",
       "Address        745\n",
       "Contact        745\n",
       "Language       745\n",
       "Study          745\n",
       "Tested         745\n",
       "Precautions    745\n",
       "Meetings       745\n",
       "Revision       745\n",
       "Effects        745\n",
       "Name           107\n",
       "Phone           75\n",
       "Email            9\n",
       "Questions        9\n",
       "Fliers         745\n",
       "Assignment     745\n",
       "dtype: int64"
      ]
     },
     "execution_count": 4,
     "metadata": {},
     "output_type": "execute_result"
    }
   ],
   "source": [
    "#get number of responses to study question \n",
    "week1_count = week1_df.count()\n",
    "week1_count"
   ]
  },
  {
   "cell_type": "code",
   "execution_count": 5,
   "id": "ad0b5d87",
   "metadata": {},
   "outputs": [
    {
     "data": {
      "text/plain": [
       "Timestamp        0\n",
       "Promotor         0\n",
       "Address          0\n",
       "Contact          0\n",
       "Language         0\n",
       "Study            0\n",
       "Tested           0\n",
       "Precautions      0\n",
       "Meetings         0\n",
       "Revision         0\n",
       "Effects          0\n",
       "Name           638\n",
       "Phone          670\n",
       "Email          736\n",
       "Questions      736\n",
       "Fliers           0\n",
       "Assignment       0\n",
       "dtype: int64"
      ]
     },
     "execution_count": 5,
     "metadata": {},
     "output_type": "execute_result"
    }
   ],
   "source": [
    "week1_df.isnull().sum()"
   ]
  },
  {
   "cell_type": "code",
   "execution_count": 6,
   "id": "2d6c46d2",
   "metadata": {},
   "outputs": [
    {
     "data": {
      "text/plain": [
       "array(['Maria', 'Jacki', 'Elizabeth', 'Ayde', 'Miguel', 'Diego', 'Jackie'],\n",
       "      dtype=object)"
      ]
     },
     "execution_count": 6,
     "metadata": {},
     "output_type": "execute_result"
    }
   ],
   "source": [
    "week1_df.Promotor.unique()"
   ]
  },
  {
   "cell_type": "code",
   "execution_count": 7,
   "id": "1ca5f6ca",
   "metadata": {},
   "outputs": [
    {
     "data": {
      "text/plain": [
       "No          520\n",
       "Yes / Si    225\n",
       "Name: Contact, dtype: int64"
      ]
     },
     "execution_count": 7,
     "metadata": {},
     "output_type": "execute_result"
    }
   ],
   "source": [
    "week1_df.Contact.value_counts()"
   ]
  },
  {
   "cell_type": "code",
   "execution_count": 8,
   "id": "cebadbf5",
   "metadata": {},
   "outputs": [
    {
     "data": {
      "text/plain": [
       "Did not take survey / No tomo la encuesta    518\n",
       "Spanish / Espanol                            143\n",
       "English / Ingles                              68\n",
       "Vietnamese                                    11\n",
       "Chinese (Madarin/Cantonese)                    3\n",
       "Tagalog                                        2\n",
       "Name: Language, dtype: int64"
      ]
     },
     "execution_count": 8,
     "metadata": {},
     "output_type": "execute_result"
    }
   ],
   "source": [
    "week1_df.Language.value_counts()"
   ]
  },
  {
   "cell_type": "code",
   "execution_count": 9,
   "id": "e5358e1a",
   "metadata": {},
   "outputs": [
    {
     "data": {
      "text/plain": [
       "Did not take survey / No tomo la encuesta    592\n",
       "No                                            81\n",
       "Yes / Si                                      71\n",
       "Maybe / Quizas                                 1\n",
       "Name: Study, dtype: int64"
      ]
     },
     "execution_count": 9,
     "metadata": {},
     "output_type": "execute_result"
    }
   ],
   "source": [
    "week1_df.Study.value_counts()"
   ]
  },
  {
   "cell_type": "code",
   "execution_count": 10,
   "id": "0b22aa21",
   "metadata": {},
   "outputs": [
    {
     "data": {
      "text/plain": [
       "Did not take survey / No tomo la encuesta    594\n",
       "Yes / Si                                      82\n",
       "Does not apply / No Aplica                    37\n",
       "Maybe / Quizas                                18\n",
       "No                                            13\n",
       "Already tested / Ya les hice prueba            1\n",
       "Name: Tested, dtype: int64"
      ]
     },
     "execution_count": 10,
     "metadata": {},
     "output_type": "execute_result"
    }
   ],
   "source": [
    "week1_df.Tested.value_counts()"
   ]
  },
  {
   "cell_type": "code",
   "execution_count": 11,
   "id": "93c8b289",
   "metadata": {},
   "outputs": [
    {
     "data": {
      "text/plain": [
       "Did not take survey / No tomo la encuesta    596\n",
       "Yes / Si                                     133\n",
       "Maybe / Quizas                                10\n",
       "No                                             6\n",
       "Name: Precautions, dtype: int64"
      ]
     },
     "execution_count": 11,
     "metadata": {},
     "output_type": "execute_result"
    }
   ],
   "source": [
    "week1_df.Precautions.value_counts()"
   ]
  },
  {
   "cell_type": "code",
   "execution_count": 12,
   "id": "8ad243a8",
   "metadata": {},
   "outputs": [
    {
     "data": {
      "text/plain": [
       "Did not take survey / No tomo la encuesta    597\n",
       "Yes / Si                                      59\n",
       "No                                            57\n",
       "Maybe / Quizas                                32\n",
       "Name: Meetings, dtype: int64"
      ]
     },
     "execution_count": 12,
     "metadata": {},
     "output_type": "execute_result"
    }
   ],
   "source": [
    "week1_df.Meetings.value_counts()"
   ]
  },
  {
   "cell_type": "code",
   "execution_count": 13,
   "id": "a597f61c",
   "metadata": {},
   "outputs": [
    {
     "data": {
      "text/plain": [
       "Did not take survey / No tomo la encuesta    596\n",
       "No                                            66\n",
       "Yes / Si                                      61\n",
       "Maybe / Quizas                                22\n",
       "Name: Revision, dtype: int64"
      ]
     },
     "execution_count": 13,
     "metadata": {},
     "output_type": "execute_result"
    }
   ],
   "source": [
    "week1_df.Revision.value_counts()"
   ]
  },
  {
   "cell_type": "code",
   "execution_count": 14,
   "id": "b48633a2",
   "metadata": {},
   "outputs": [
    {
     "data": {
      "text/plain": [
       "Did not take survey / No tomo la encuesta    596\n",
       "Yes / Si                                      87\n",
       "No                                            50\n",
       "Maybe / Quizas                                12\n",
       "Name: Effects, dtype: int64"
      ]
     },
     "execution_count": 14,
     "metadata": {},
     "output_type": "execute_result"
    }
   ],
   "source": [
    "week1_df.Effects.value_counts()"
   ]
  },
  {
   "cell_type": "code",
   "execution_count": 15,
   "id": "328c5c7d",
   "metadata": {},
   "outputs": [
    {
     "data": {
      "text/plain": [
       "Timestamp      745\n",
       "Promotor       745\n",
       "Address        745\n",
       "Contact        745\n",
       "Language       745\n",
       "Study          745\n",
       "Tested         745\n",
       "Precautions    745\n",
       "Meetings       745\n",
       "Revision       745\n",
       "Effects        745\n",
       "Name           107\n",
       "Phone           75\n",
       "Email            9\n",
       "Questions        9\n",
       "Fliers         745\n",
       "Assignment     745\n",
       "dtype: int64"
      ]
     },
     "execution_count": 15,
     "metadata": {},
     "output_type": "execute_result"
    }
   ],
   "source": [
    "week1_df.notnull().sum()"
   ]
  },
  {
   "cell_type": "code",
   "execution_count": null,
   "id": "5ca49d75",
   "metadata": {},
   "outputs": [],
   "source": []
  },
  {
   "cell_type": "code",
   "execution_count": null,
   "id": "b1c83784",
   "metadata": {},
   "outputs": [],
   "source": []
  }
 ],
 "metadata": {
  "kernelspec": {
   "display_name": "PythonData",
   "language": "python",
   "name": "pythondata"
  },
  "language_info": {
   "codemirror_mode": {
    "name": "ipython",
    "version": 3
   },
   "file_extension": ".py",
   "mimetype": "text/x-python",
   "name": "python",
   "nbconvert_exporter": "python",
   "pygments_lexer": "ipython3",
   "version": "3.9.12"
  }
 },
 "nbformat": 4,
 "nbformat_minor": 5
}
