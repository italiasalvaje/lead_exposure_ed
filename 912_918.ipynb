{
 "cells": [
  {
   "cell_type": "code",
   "execution_count": 1,
   "id": "074066e5",
   "metadata": {},
   "outputs": [],
   "source": [
    "# Add Pandas dependency\n",
    "\n",
    "import pandas as pd\n"
   ]
  },
  {
   "cell_type": "code",
   "execution_count": 2,
   "id": "65f859a0",
   "metadata": {},
   "outputs": [],
   "source": [
    "# Files to load\n",
    "week1 = \"WeeklyReports/912_918.csv\"\n",
    "\n"
   ]
  },
  {
   "cell_type": "code",
   "execution_count": 3,
   "id": "a5f8978b",
   "metadata": {},
   "outputs": [
    {
     "data": {
      "text/html": [
       "<div>\n",
       "<style scoped>\n",
       "    .dataframe tbody tr th:only-of-type {\n",
       "        vertical-align: middle;\n",
       "    }\n",
       "\n",
       "    .dataframe tbody tr th {\n",
       "        vertical-align: top;\n",
       "    }\n",
       "\n",
       "    .dataframe thead th {\n",
       "        text-align: right;\n",
       "    }\n",
       "</style>\n",
       "<table border=\"1\" class=\"dataframe\">\n",
       "  <thead>\n",
       "    <tr style=\"text-align: right;\">\n",
       "      <th></th>\n",
       "      <th>Timestamp</th>\n",
       "      <th>Promotor</th>\n",
       "      <th>Address</th>\n",
       "      <th>Contact</th>\n",
       "      <th>Language</th>\n",
       "      <th>Study</th>\n",
       "      <th>Tested</th>\n",
       "      <th>Precautions</th>\n",
       "      <th>Meetings</th>\n",
       "      <th>Revision</th>\n",
       "      <th>Effects</th>\n",
       "      <th>Name</th>\n",
       "      <th>Phone</th>\n",
       "      <th>Email</th>\n",
       "      <th>Questions</th>\n",
       "      <th>Fliers</th>\n",
       "      <th>Assignment</th>\n",
       "    </tr>\n",
       "  </thead>\n",
       "  <tbody>\n",
       "    <tr>\n",
       "      <th>0</th>\n",
       "      <td>9/12/22 14:40</td>\n",
       "      <td>Maria</td>\n",
       "      <td>2444 Clyda Dr</td>\n",
       "      <td>No</td>\n",
       "      <td>Did not take survey / No tomo la encuesta</td>\n",
       "      <td>Did not take survey / No tomo la encuesta</td>\n",
       "      <td>Did not take survey / No tomo la encuesta</td>\n",
       "      <td>Did not take survey / No tomo la encuesta</td>\n",
       "      <td>Did not take survey / No tomo la encuesta</td>\n",
       "      <td>Did not take survey / No tomo la encuesta</td>\n",
       "      <td>Did not take survey / No tomo la encuesta</td>\n",
       "      <td>NaN</td>\n",
       "      <td>NaN</td>\n",
       "      <td>NaN</td>\n",
       "      <td>NaN</td>\n",
       "      <td>Left at the address / Deje en la direccion</td>\n",
       "      <td>N</td>\n",
       "    </tr>\n",
       "    <tr>\n",
       "      <th>1</th>\n",
       "      <td>9/12/22 14:42</td>\n",
       "      <td>Jacki</td>\n",
       "      <td>2448 Clyda Dr</td>\n",
       "      <td>No</td>\n",
       "      <td>Spanish / Espanol</td>\n",
       "      <td>Did not take survey / No tomo la encuesta</td>\n",
       "      <td>Did not take survey / No tomo la encuesta</td>\n",
       "      <td>Did not take survey / No tomo la encuesta</td>\n",
       "      <td>Did not take survey / No tomo la encuesta</td>\n",
       "      <td>Did not take survey / No tomo la encuesta</td>\n",
       "      <td>Did not take survey / No tomo la encuesta</td>\n",
       "      <td>NaN</td>\n",
       "      <td>NaN</td>\n",
       "      <td>NaN</td>\n",
       "      <td>NaN</td>\n",
       "      <td>Left at the address / Deje en la direccion</td>\n",
       "      <td>N</td>\n",
       "    </tr>\n",
       "    <tr>\n",
       "      <th>2</th>\n",
       "      <td>9/12/22 14:49</td>\n",
       "      <td>Maria</td>\n",
       "      <td>2450 Clyda Dr</td>\n",
       "      <td>Yes / Si</td>\n",
       "      <td>Spanish / Espanol</td>\n",
       "      <td>Yes / Si</td>\n",
       "      <td>Yes / Si</td>\n",
       "      <td>Yes / Si</td>\n",
       "      <td>No</td>\n",
       "      <td>Yes / Si</td>\n",
       "      <td>No</td>\n",
       "      <td>Efraín Cantor</td>\n",
       "      <td>6698292107</td>\n",
       "      <td>NaN</td>\n",
       "      <td>NaN</td>\n",
       "      <td>Handed to resident / Entregue al residente</td>\n",
       "      <td>N</td>\n",
       "    </tr>\n",
       "    <tr>\n",
       "      <th>3</th>\n",
       "      <td>9/12/22 14:52</td>\n",
       "      <td>Jacki</td>\n",
       "      <td>2452 Clyda Dr</td>\n",
       "      <td>No</td>\n",
       "      <td>Spanish / Espanol</td>\n",
       "      <td>Did not take survey / No tomo la encuesta</td>\n",
       "      <td>Did not take survey / No tomo la encuesta</td>\n",
       "      <td>Did not take survey / No tomo la encuesta</td>\n",
       "      <td>Did not take survey / No tomo la encuesta</td>\n",
       "      <td>Did not take survey / No tomo la encuesta</td>\n",
       "      <td>Did not take survey / No tomo la encuesta</td>\n",
       "      <td>NaN</td>\n",
       "      <td>NaN</td>\n",
       "      <td>NaN</td>\n",
       "      <td>NaN</td>\n",
       "      <td>Did not leave fliers / No deje folletos</td>\n",
       "      <td>N</td>\n",
       "    </tr>\n",
       "    <tr>\n",
       "      <th>4</th>\n",
       "      <td>9/12/22 14:52</td>\n",
       "      <td>Maria</td>\n",
       "      <td>2454 Clyda Dr</td>\n",
       "      <td>No</td>\n",
       "      <td>Did not take survey / No tomo la encuesta</td>\n",
       "      <td>Did not take survey / No tomo la encuesta</td>\n",
       "      <td>Did not take survey / No tomo la encuesta</td>\n",
       "      <td>Did not take survey / No tomo la encuesta</td>\n",
       "      <td>Did not take survey / No tomo la encuesta</td>\n",
       "      <td>Did not take survey / No tomo la encuesta</td>\n",
       "      <td>Did not take survey / No tomo la encuesta</td>\n",
       "      <td>NaN</td>\n",
       "      <td>NaN</td>\n",
       "      <td>NaN</td>\n",
       "      <td>NaN</td>\n",
       "      <td>Left at the address / Deje en la direccion</td>\n",
       "      <td>N</td>\n",
       "    </tr>\n",
       "    <tr>\n",
       "      <th>...</th>\n",
       "      <td>...</td>\n",
       "      <td>...</td>\n",
       "      <td>...</td>\n",
       "      <td>...</td>\n",
       "      <td>...</td>\n",
       "      <td>...</td>\n",
       "      <td>...</td>\n",
       "      <td>...</td>\n",
       "      <td>...</td>\n",
       "      <td>...</td>\n",
       "      <td>...</td>\n",
       "      <td>...</td>\n",
       "      <td>...</td>\n",
       "      <td>...</td>\n",
       "      <td>...</td>\n",
       "      <td>...</td>\n",
       "      <td>...</td>\n",
       "    </tr>\n",
       "    <tr>\n",
       "      <th>161</th>\n",
       "      <td>9/16/22 11:03</td>\n",
       "      <td>Ayde</td>\n",
       "      <td>10478 Dover Way</td>\n",
       "      <td>No</td>\n",
       "      <td>Did not take survey / No tomo la encuesta</td>\n",
       "      <td>Did not take survey / No tomo la encuesta</td>\n",
       "      <td>Did not take survey / No tomo la encuesta</td>\n",
       "      <td>Did not take survey / No tomo la encuesta</td>\n",
       "      <td>Did not take survey / No tomo la encuesta</td>\n",
       "      <td>Did not take survey / No tomo la encuesta</td>\n",
       "      <td>Did not take survey / No tomo la encuesta</td>\n",
       "      <td>NaN</td>\n",
       "      <td>NaN</td>\n",
       "      <td>NaN</td>\n",
       "      <td>NaN</td>\n",
       "      <td>Left at the address / Deje en la direccion</td>\n",
       "      <td>O</td>\n",
       "    </tr>\n",
       "    <tr>\n",
       "      <th>162</th>\n",
       "      <td>9/16/22 11:08</td>\n",
       "      <td>Ayde</td>\n",
       "      <td>1610 Westboro Dr</td>\n",
       "      <td>No</td>\n",
       "      <td>Did not take survey / No tomo la encuesta</td>\n",
       "      <td>Did not take survey / No tomo la encuesta</td>\n",
       "      <td>Did not take survey / No tomo la encuesta</td>\n",
       "      <td>Did not take survey / No tomo la encuesta</td>\n",
       "      <td>Did not take survey / No tomo la encuesta</td>\n",
       "      <td>Did not take survey / No tomo la encuesta</td>\n",
       "      <td>Did not take survey / No tomo la encuesta</td>\n",
       "      <td>NaN</td>\n",
       "      <td>NaN</td>\n",
       "      <td>NaN</td>\n",
       "      <td>NaN</td>\n",
       "      <td>Left at the address / Deje en la direccion</td>\n",
       "      <td>O</td>\n",
       "    </tr>\n",
       "    <tr>\n",
       "      <th>163</th>\n",
       "      <td>9/16/22 11:09</td>\n",
       "      <td>Elizabeth</td>\n",
       "      <td>13571 Westboro Dr</td>\n",
       "      <td>Yes / Si</td>\n",
       "      <td>Spanish / Espanol</td>\n",
       "      <td>Yes / Si</td>\n",
       "      <td>Yes / Si</td>\n",
       "      <td>Yes / Si</td>\n",
       "      <td>No</td>\n",
       "      <td>No</td>\n",
       "      <td>Yes / Si</td>\n",
       "      <td>NaN</td>\n",
       "      <td>NaN</td>\n",
       "      <td>NaN</td>\n",
       "      <td>NaN</td>\n",
       "      <td>Handed to resident / Entregue al residente</td>\n",
       "      <td>O</td>\n",
       "    </tr>\n",
       "    <tr>\n",
       "      <th>164</th>\n",
       "      <td>9/16/22 11:10</td>\n",
       "      <td>Elizabeth</td>\n",
       "      <td>13579 Westboro Dr</td>\n",
       "      <td>No</td>\n",
       "      <td>Did not take survey / No tomo la encuesta</td>\n",
       "      <td>Did not take survey / No tomo la encuesta</td>\n",
       "      <td>Did not take survey / No tomo la encuesta</td>\n",
       "      <td>Did not take survey / No tomo la encuesta</td>\n",
       "      <td>Did not take survey / No tomo la encuesta</td>\n",
       "      <td>Did not take survey / No tomo la encuesta</td>\n",
       "      <td>Did not take survey / No tomo la encuesta</td>\n",
       "      <td>NaN</td>\n",
       "      <td>NaN</td>\n",
       "      <td>NaN</td>\n",
       "      <td>NaN</td>\n",
       "      <td>Left at the address / Deje en la direccion</td>\n",
       "      <td>O</td>\n",
       "    </tr>\n",
       "    <tr>\n",
       "      <th>165</th>\n",
       "      <td>9/16/22 11:12</td>\n",
       "      <td>Elizabeth</td>\n",
       "      <td>13595 Westboro Dr</td>\n",
       "      <td>No</td>\n",
       "      <td>Did not take survey / No tomo la encuesta</td>\n",
       "      <td>Did not take survey / No tomo la encuesta</td>\n",
       "      <td>Did not take survey / No tomo la encuesta</td>\n",
       "      <td>Did not take survey / No tomo la encuesta</td>\n",
       "      <td>Did not take survey / No tomo la encuesta</td>\n",
       "      <td>Did not take survey / No tomo la encuesta</td>\n",
       "      <td>Did not take survey / No tomo la encuesta</td>\n",
       "      <td>NaN</td>\n",
       "      <td>NaN</td>\n",
       "      <td>NaN</td>\n",
       "      <td>NaN</td>\n",
       "      <td>Left at the address / Deje en la direccion</td>\n",
       "      <td>O</td>\n",
       "    </tr>\n",
       "  </tbody>\n",
       "</table>\n",
       "<p>166 rows × 17 columns</p>\n",
       "</div>"
      ],
      "text/plain": [
       "         Timestamp   Promotor            Address   Contact  \\\n",
       "0    9/12/22 14:40      Maria      2444 Clyda Dr        No   \n",
       "1    9/12/22 14:42      Jacki      2448 Clyda Dr        No   \n",
       "2    9/12/22 14:49      Maria      2450 Clyda Dr  Yes / Si   \n",
       "3    9/12/22 14:52      Jacki      2452 Clyda Dr        No   \n",
       "4    9/12/22 14:52      Maria      2454 Clyda Dr        No   \n",
       "..             ...        ...                ...       ...   \n",
       "161  9/16/22 11:03       Ayde    10478 Dover Way        No   \n",
       "162  9/16/22 11:08       Ayde   1610 Westboro Dr        No   \n",
       "163  9/16/22 11:09  Elizabeth  13571 Westboro Dr  Yes / Si   \n",
       "164  9/16/22 11:10  Elizabeth  13579 Westboro Dr        No   \n",
       "165  9/16/22 11:12  Elizabeth  13595 Westboro Dr        No   \n",
       "\n",
       "                                      Language  \\\n",
       "0    Did not take survey / No tomo la encuesta   \n",
       "1                            Spanish / Espanol   \n",
       "2                            Spanish / Espanol   \n",
       "3                            Spanish / Espanol   \n",
       "4    Did not take survey / No tomo la encuesta   \n",
       "..                                         ...   \n",
       "161  Did not take survey / No tomo la encuesta   \n",
       "162  Did not take survey / No tomo la encuesta   \n",
       "163                          Spanish / Espanol   \n",
       "164  Did not take survey / No tomo la encuesta   \n",
       "165  Did not take survey / No tomo la encuesta   \n",
       "\n",
       "                                         Study  \\\n",
       "0    Did not take survey / No tomo la encuesta   \n",
       "1    Did not take survey / No tomo la encuesta   \n",
       "2                                     Yes / Si   \n",
       "3    Did not take survey / No tomo la encuesta   \n",
       "4    Did not take survey / No tomo la encuesta   \n",
       "..                                         ...   \n",
       "161  Did not take survey / No tomo la encuesta   \n",
       "162  Did not take survey / No tomo la encuesta   \n",
       "163                                   Yes / Si   \n",
       "164  Did not take survey / No tomo la encuesta   \n",
       "165  Did not take survey / No tomo la encuesta   \n",
       "\n",
       "                                        Tested  \\\n",
       "0    Did not take survey / No tomo la encuesta   \n",
       "1    Did not take survey / No tomo la encuesta   \n",
       "2                                     Yes / Si   \n",
       "3    Did not take survey / No tomo la encuesta   \n",
       "4    Did not take survey / No tomo la encuesta   \n",
       "..                                         ...   \n",
       "161  Did not take survey / No tomo la encuesta   \n",
       "162  Did not take survey / No tomo la encuesta   \n",
       "163                                   Yes / Si   \n",
       "164  Did not take survey / No tomo la encuesta   \n",
       "165  Did not take survey / No tomo la encuesta   \n",
       "\n",
       "                                   Precautions  \\\n",
       "0    Did not take survey / No tomo la encuesta   \n",
       "1    Did not take survey / No tomo la encuesta   \n",
       "2                                     Yes / Si   \n",
       "3    Did not take survey / No tomo la encuesta   \n",
       "4    Did not take survey / No tomo la encuesta   \n",
       "..                                         ...   \n",
       "161  Did not take survey / No tomo la encuesta   \n",
       "162  Did not take survey / No tomo la encuesta   \n",
       "163                                   Yes / Si   \n",
       "164  Did not take survey / No tomo la encuesta   \n",
       "165  Did not take survey / No tomo la encuesta   \n",
       "\n",
       "                                      Meetings  \\\n",
       "0    Did not take survey / No tomo la encuesta   \n",
       "1    Did not take survey / No tomo la encuesta   \n",
       "2                                           No   \n",
       "3    Did not take survey / No tomo la encuesta   \n",
       "4    Did not take survey / No tomo la encuesta   \n",
       "..                                         ...   \n",
       "161  Did not take survey / No tomo la encuesta   \n",
       "162  Did not take survey / No tomo la encuesta   \n",
       "163                                         No   \n",
       "164  Did not take survey / No tomo la encuesta   \n",
       "165  Did not take survey / No tomo la encuesta   \n",
       "\n",
       "                                      Revision  \\\n",
       "0    Did not take survey / No tomo la encuesta   \n",
       "1    Did not take survey / No tomo la encuesta   \n",
       "2                                     Yes / Si   \n",
       "3    Did not take survey / No tomo la encuesta   \n",
       "4    Did not take survey / No tomo la encuesta   \n",
       "..                                         ...   \n",
       "161  Did not take survey / No tomo la encuesta   \n",
       "162  Did not take survey / No tomo la encuesta   \n",
       "163                                         No   \n",
       "164  Did not take survey / No tomo la encuesta   \n",
       "165  Did not take survey / No tomo la encuesta   \n",
       "\n",
       "                                       Effects           Name       Phone  \\\n",
       "0    Did not take survey / No tomo la encuesta            NaN         NaN   \n",
       "1    Did not take survey / No tomo la encuesta            NaN         NaN   \n",
       "2                                           No  Efraín Cantor  6698292107   \n",
       "3    Did not take survey / No tomo la encuesta            NaN         NaN   \n",
       "4    Did not take survey / No tomo la encuesta            NaN         NaN   \n",
       "..                                         ...            ...         ...   \n",
       "161  Did not take survey / No tomo la encuesta            NaN         NaN   \n",
       "162  Did not take survey / No tomo la encuesta            NaN         NaN   \n",
       "163                                   Yes / Si            NaN         NaN   \n",
       "164  Did not take survey / No tomo la encuesta            NaN         NaN   \n",
       "165  Did not take survey / No tomo la encuesta            NaN         NaN   \n",
       "\n",
       "     Email  Questions                                      Fliers Assignment  \n",
       "0      NaN        NaN  Left at the address / Deje en la direccion          N  \n",
       "1      NaN        NaN  Left at the address / Deje en la direccion          N  \n",
       "2      NaN        NaN  Handed to resident / Entregue al residente          N  \n",
       "3      NaN        NaN     Did not leave fliers / No deje folletos          N  \n",
       "4      NaN        NaN  Left at the address / Deje en la direccion          N  \n",
       "..     ...        ...                                         ...        ...  \n",
       "161    NaN        NaN  Left at the address / Deje en la direccion          O  \n",
       "162    NaN        NaN  Left at the address / Deje en la direccion          O  \n",
       "163    NaN        NaN  Handed to resident / Entregue al residente          O  \n",
       "164    NaN        NaN  Left at the address / Deje en la direccion          O  \n",
       "165    NaN        NaN  Left at the address / Deje en la direccion          O  \n",
       "\n",
       "[166 rows x 17 columns]"
      ]
     },
     "execution_count": 3,
     "metadata": {},
     "output_type": "execute_result"
    }
   ],
   "source": [
    "# Read RHV addresses \n",
    "\n",
    "week1_df = pd.read_csv(week1)\n",
    "week1_df"
   ]
  },
  {
   "cell_type": "code",
   "execution_count": 4,
   "id": "d5d84dee",
   "metadata": {},
   "outputs": [
    {
     "data": {
      "text/plain": [
       "Timestamp      166\n",
       "Promotor       166\n",
       "Address        166\n",
       "Contact        166\n",
       "Language       166\n",
       "Study          166\n",
       "Tested         166\n",
       "Precautions    166\n",
       "Meetings       166\n",
       "Revision       166\n",
       "Effects        166\n",
       "Name            36\n",
       "Phone           26\n",
       "Email            0\n",
       "Questions        0\n",
       "Fliers         166\n",
       "Assignment     166\n",
       "dtype: int64"
      ]
     },
     "execution_count": 4,
     "metadata": {},
     "output_type": "execute_result"
    }
   ],
   "source": [
    "#get number of responses to study question \n",
    "week1_count = week1_df.count()\n",
    "week1_count"
   ]
  },
  {
   "cell_type": "code",
   "execution_count": 6,
   "id": "ad0b5d87",
   "metadata": {},
   "outputs": [
    {
     "data": {
      "text/plain": [
       "Timestamp        0\n",
       "Promotor         0\n",
       "Address          0\n",
       "Contact          0\n",
       "Language         0\n",
       "Study            0\n",
       "Tested           0\n",
       "Precautions      0\n",
       "Meetings         0\n",
       "Revision         0\n",
       "Effects          0\n",
       "Name           130\n",
       "Phone          140\n",
       "Email          166\n",
       "Questions      166\n",
       "Fliers           0\n",
       "Assignment       0\n",
       "dtype: int64"
      ]
     },
     "execution_count": 6,
     "metadata": {},
     "output_type": "execute_result"
    }
   ],
   "source": [
    "week1_df.isnull().sum()"
   ]
  },
  {
   "cell_type": "code",
   "execution_count": 7,
   "id": "2d6c46d2",
   "metadata": {},
   "outputs": [
    {
     "data": {
      "text/plain": [
       "array(['Maria', 'Jacki', 'Elizabeth', 'Ayde'], dtype=object)"
      ]
     },
     "execution_count": 7,
     "metadata": {},
     "output_type": "execute_result"
    }
   ],
   "source": [
    "week1_df.Promotor.unique()"
   ]
  },
  {
   "cell_type": "code",
   "execution_count": 16,
   "id": "1ca5f6ca",
   "metadata": {},
   "outputs": [
    {
     "data": {
      "text/plain": [
       "No          116\n",
       "Yes / Si     50\n",
       "Name: Contact, dtype: int64"
      ]
     },
     "execution_count": 16,
     "metadata": {},
     "output_type": "execute_result"
    }
   ],
   "source": [
    "week1_df.Contact.value_counts()"
   ]
  },
  {
   "cell_type": "code",
   "execution_count": 8,
   "id": "cebadbf5",
   "metadata": {},
   "outputs": [
    {
     "data": {
      "text/plain": [
       "Did not take survey / No tomo la encuesta    108\n",
       "Spanish / Espanol                             48\n",
       "English / Ingles                              10\n",
       "Name: Language, dtype: int64"
      ]
     },
     "execution_count": 8,
     "metadata": {},
     "output_type": "execute_result"
    }
   ],
   "source": [
    "week1_df.Language.value_counts()"
   ]
  },
  {
   "cell_type": "code",
   "execution_count": 9,
   "id": "e5358e1a",
   "metadata": {},
   "outputs": [
    {
     "data": {
      "text/plain": [
       "Did not take survey / No tomo la encuesta    121\n",
       "Yes / Si                                      24\n",
       "No                                            21\n",
       "Name: Study, dtype: int64"
      ]
     },
     "execution_count": 9,
     "metadata": {},
     "output_type": "execute_result"
    }
   ],
   "source": [
    "week1_df.Study.value_counts()"
   ]
  },
  {
   "cell_type": "code",
   "execution_count": 10,
   "id": "0b22aa21",
   "metadata": {},
   "outputs": [
    {
     "data": {
      "text/plain": [
       "Did not take survey / No tomo la encuesta    122\n",
       "Yes / Si                                      30\n",
       "Does not apply / No Aplica                     7\n",
       "No                                             3\n",
       "Maybe / Quizas                                 3\n",
       "Already tested / Ya les hice prueba            1\n",
       "Name: Tested, dtype: int64"
      ]
     },
     "execution_count": 10,
     "metadata": {},
     "output_type": "execute_result"
    }
   ],
   "source": [
    "week1_df.Tested.value_counts()"
   ]
  },
  {
   "cell_type": "code",
   "execution_count": 11,
   "id": "93c8b289",
   "metadata": {},
   "outputs": [
    {
     "data": {
      "text/plain": [
       "Did not take survey / No tomo la encuesta    123\n",
       "Yes / Si                                      40\n",
       "Maybe / Quizas                                 2\n",
       "No                                             1\n",
       "Name: Precautions, dtype: int64"
      ]
     },
     "execution_count": 11,
     "metadata": {},
     "output_type": "execute_result"
    }
   ],
   "source": [
    "week1_df.Precautions.value_counts()"
   ]
  },
  {
   "cell_type": "code",
   "execution_count": 12,
   "id": "8ad243a8",
   "metadata": {},
   "outputs": [
    {
     "data": {
      "text/plain": [
       "Did not take survey / No tomo la encuesta    122\n",
       "Yes / Si                                      22\n",
       "No                                            13\n",
       "Maybe / Quizas                                 9\n",
       "Name: Meetings, dtype: int64"
      ]
     },
     "execution_count": 12,
     "metadata": {},
     "output_type": "execute_result"
    }
   ],
   "source": [
    "week1_df.Meetings.value_counts()"
   ]
  },
  {
   "cell_type": "code",
   "execution_count": 13,
   "id": "a597f61c",
   "metadata": {},
   "outputs": [
    {
     "data": {
      "text/plain": [
       "Did not take survey / No tomo la encuesta    122\n",
       "No                                            18\n",
       "Yes / Si                                      17\n",
       "Maybe / Quizas                                 9\n",
       "Name: Revision, dtype: int64"
      ]
     },
     "execution_count": 13,
     "metadata": {},
     "output_type": "execute_result"
    }
   ],
   "source": [
    "week1_df.Revision.value_counts()"
   ]
  },
  {
   "cell_type": "code",
   "execution_count": 14,
   "id": "b48633a2",
   "metadata": {},
   "outputs": [
    {
     "data": {
      "text/plain": [
       "Did not take survey / No tomo la encuesta    122\n",
       "Yes / Si                                      37\n",
       "No                                             7\n",
       "Name: Effects, dtype: int64"
      ]
     },
     "execution_count": 14,
     "metadata": {},
     "output_type": "execute_result"
    }
   ],
   "source": [
    "week1_df.Effects.value_counts()"
   ]
  },
  {
   "cell_type": "code",
   "execution_count": 15,
   "id": "328c5c7d",
   "metadata": {},
   "outputs": [
    {
     "data": {
      "text/plain": [
       "Timestamp      166\n",
       "Promotor       166\n",
       "Address        166\n",
       "Contact        166\n",
       "Language       166\n",
       "Study          166\n",
       "Tested         166\n",
       "Precautions    166\n",
       "Meetings       166\n",
       "Revision       166\n",
       "Effects        166\n",
       "Name            36\n",
       "Phone           26\n",
       "Email            0\n",
       "Questions        0\n",
       "Fliers         166\n",
       "Assignment     166\n",
       "dtype: int64"
      ]
     },
     "execution_count": 15,
     "metadata": {},
     "output_type": "execute_result"
    }
   ],
   "source": [
    "week1_df.notnull().sum()"
   ]
  },
  {
   "cell_type": "code",
   "execution_count": null,
   "id": "5ca49d75",
   "metadata": {},
   "outputs": [],
   "source": []
  }
 ],
 "metadata": {
  "kernelspec": {
   "display_name": "PythonData",
   "language": "python",
   "name": "pythondata"
  },
  "language_info": {
   "codemirror_mode": {
    "name": "ipython",
    "version": 3
   },
   "file_extension": ".py",
   "mimetype": "text/x-python",
   "name": "python",
   "nbconvert_exporter": "python",
   "pygments_lexer": "ipython3",
   "version": "3.9.12"
  }
 },
 "nbformat": 4,
 "nbformat_minor": 5
}
